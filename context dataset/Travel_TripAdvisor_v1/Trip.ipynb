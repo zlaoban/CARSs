{
 "cells": [
  {
   "cell_type": "code",
   "execution_count": 1,
   "metadata": {},
   "outputs": [],
   "source": [
    "import pandas as pd\n",
    "import numpy as np\n",
    "from surprise import NormalPredictor\n",
    "from surprise import Dataset\n",
    "from surprise import Reader\n",
    "from surprise.model_selection import cross_validate\n",
    "from surprise import SVD\n",
    "from surprise import Dataset\n",
    "from surprise.model_selection import GridSearchCV\n",
    "from sklearn.preprocessing import normalize\n",
    "import scipy.cluster.hierarchy as shc\n",
    "import matplotlib.pyplot as plt\n",
    "from sklearn.cluster import AgglomerativeClustering\n",
    "from collections import defaultdict\n",
    "from sklearn.preprocessing import LabelEncoder "
   ]
  },
  {
   "cell_type": "code",
   "execution_count": 2,
   "metadata": {},
   "outputs": [],
   "source": [
    "data_df1 = pd.read_excel('Data_TripAdvisor_v1.xls')\n",
    "data_df2 = pd.read_csv('/home/jinfeng/Downloads/technique/dataset/context dataset/Travel_TripAdvisor_v2/Data_TripAdvisor_v2.csv')"
   ]
  },
  {
   "cell_type": "code",
   "execution_count": 3,
   "metadata": {},
   "outputs": [
    {
     "data": {
      "text/html": [
       "<div>\n",
       "<style scoped>\n",
       "    .dataframe tbody tr th:only-of-type {\n",
       "        vertical-align: middle;\n",
       "    }\n",
       "\n",
       "    .dataframe tbody tr th {\n",
       "        vertical-align: top;\n",
       "    }\n",
       "\n",
       "    .dataframe thead th {\n",
       "        text-align: right;\n",
       "    }\n",
       "</style>\n",
       "<table border=\"1\" class=\"dataframe\">\n",
       "  <thead>\n",
       "    <tr style=\"text-align: right;\">\n",
       "      <th></th>\n",
       "      <th>ID_USER</th>\n",
       "      <th>USER_STATE</th>\n",
       "      <th>USER_TIMEZONE</th>\n",
       "      <th>ID_HOTEL</th>\n",
       "      <th>HOTEL_CITY</th>\n",
       "      <th>HOTEL_STATE</th>\n",
       "      <th>HOTEL_TIMEZONE</th>\n",
       "      <th>Trip Type</th>\n",
       "      <th>Rating</th>\n",
       "    </tr>\n",
       "  </thead>\n",
       "  <tbody>\n",
       "    <tr>\n",
       "      <th>0</th>\n",
       "      <td>45</td>\n",
       "      <td>GA</td>\n",
       "      <td>Eastern</td>\n",
       "      <td>105170</td>\n",
       "      <td>Memphis</td>\n",
       "      <td>TN</td>\n",
       "      <td>Central</td>\n",
       "      <td>3</td>\n",
       "      <td>5</td>\n",
       "    </tr>\n",
       "    <tr>\n",
       "      <th>1</th>\n",
       "      <td>45</td>\n",
       "      <td>GA</td>\n",
       "      <td>Eastern</td>\n",
       "      <td>223229</td>\n",
       "      <td>SanAntonio</td>\n",
       "      <td>TX</td>\n",
       "      <td>Central</td>\n",
       "      <td>3</td>\n",
       "      <td>5</td>\n",
       "    </tr>\n",
       "    <tr>\n",
       "      <th>2</th>\n",
       "      <td>45</td>\n",
       "      <td>GA</td>\n",
       "      <td>Eastern</td>\n",
       "      <td>258688</td>\n",
       "      <td>Albuquerque</td>\n",
       "      <td>NM</td>\n",
       "      <td>Mountain</td>\n",
       "      <td>3</td>\n",
       "      <td>5</td>\n",
       "    </tr>\n",
       "    <tr>\n",
       "      <th>3</th>\n",
       "      <td>45</td>\n",
       "      <td>GA</td>\n",
       "      <td>Eastern</td>\n",
       "      <td>98827</td>\n",
       "      <td>ELPaso</td>\n",
       "      <td>TX</td>\n",
       "      <td>Central</td>\n",
       "      <td>3</td>\n",
       "      <td>5</td>\n",
       "    </tr>\n",
       "    <tr>\n",
       "      <th>4</th>\n",
       "      <td>45</td>\n",
       "      <td>GA</td>\n",
       "      <td>Eastern</td>\n",
       "      <td>99518</td>\n",
       "      <td>SanAntonio</td>\n",
       "      <td>TX</td>\n",
       "      <td>Central</td>\n",
       "      <td>3</td>\n",
       "      <td>3</td>\n",
       "    </tr>\n",
       "  </tbody>\n",
       "</table>\n",
       "</div>"
      ],
      "text/plain": [
       "   ID_USER USER_STATE USER_TIMEZONE  ID_HOTEL   HOTEL_CITY HOTEL_STATE  \\\n",
       "0       45         GA       Eastern    105170      Memphis          TN   \n",
       "1       45         GA       Eastern    223229   SanAntonio          TX   \n",
       "2       45         GA       Eastern    258688  Albuquerque          NM   \n",
       "3       45         GA       Eastern     98827       ELPaso          TX   \n",
       "4       45         GA       Eastern     99518   SanAntonio          TX   \n",
       "\n",
       "  HOTEL_TIMEZONE  Trip Type  Rating  \n",
       "0        Central          3       5  \n",
       "1        Central          3       5  \n",
       "2       Mountain          3       5  \n",
       "3        Central          3       5  \n",
       "4        Central          3       3  "
      ]
     },
     "execution_count": 3,
     "metadata": {},
     "output_type": "execute_result"
    }
   ],
   "source": [
    "data_df1.head()"
   ]
  },
  {
   "cell_type": "code",
   "execution_count": 4,
   "metadata": {},
   "outputs": [
    {
     "data": {
      "text/html": [
       "<div>\n",
       "<style scoped>\n",
       "    .dataframe tbody tr th:only-of-type {\n",
       "        vertical-align: middle;\n",
       "    }\n",
       "\n",
       "    .dataframe tbody tr th {\n",
       "        vertical-align: top;\n",
       "    }\n",
       "\n",
       "    .dataframe thead th {\n",
       "        text-align: right;\n",
       "    }\n",
       "</style>\n",
       "<table border=\"1\" class=\"dataframe\">\n",
       "  <thead>\n",
       "    <tr style=\"text-align: right;\">\n",
       "      <th></th>\n",
       "      <th>UserID</th>\n",
       "      <th>ItemID</th>\n",
       "      <th>Rating</th>\n",
       "      <th>UserState</th>\n",
       "      <th>UserTimeZone</th>\n",
       "      <th>ItemCity</th>\n",
       "      <th>ItemState</th>\n",
       "      <th>ItemTimeZone</th>\n",
       "      <th>TripType</th>\n",
       "    </tr>\n",
       "  </thead>\n",
       "  <tbody>\n",
       "    <tr>\n",
       "      <th>0</th>\n",
       "      <td>5C28F393B23BB894523AE7126A7AE445</td>\n",
       "      <td>219668</td>\n",
       "      <td>5</td>\n",
       "      <td>AK</td>\n",
       "      <td>AK</td>\n",
       "      <td>GREENSBORO</td>\n",
       "      <td>NC</td>\n",
       "      <td>EASTERN</td>\n",
       "      <td>SOLO</td>\n",
       "    </tr>\n",
       "    <tr>\n",
       "      <th>1</th>\n",
       "      <td>3FA27F6E8AC712A82C69C4EDD8B912CC</td>\n",
       "      <td>223860</td>\n",
       "      <td>5</td>\n",
       "      <td>AK</td>\n",
       "      <td>AK</td>\n",
       "      <td>PHOENIX</td>\n",
       "      <td>AZ</td>\n",
       "      <td>MOUNTAIN</td>\n",
       "      <td>SOLO</td>\n",
       "    </tr>\n",
       "    <tr>\n",
       "      <th>2</th>\n",
       "      <td>B99CFBB5411EDC8881D13B7A4B313ADA</td>\n",
       "      <td>75680</td>\n",
       "      <td>5</td>\n",
       "      <td>AK</td>\n",
       "      <td>AK</td>\n",
       "      <td>ANAHEIM</td>\n",
       "      <td>CA</td>\n",
       "      <td>PACIFIC</td>\n",
       "      <td>FAMILY</td>\n",
       "    </tr>\n",
       "    <tr>\n",
       "      <th>3</th>\n",
       "      <td>3FA27F6E8AC712A82C69C4EDD8B912CC</td>\n",
       "      <td>224783</td>\n",
       "      <td>5</td>\n",
       "      <td>AK</td>\n",
       "      <td>AK</td>\n",
       "      <td>SEATTLE</td>\n",
       "      <td>WA</td>\n",
       "      <td>PACIFIC</td>\n",
       "      <td>SOLO</td>\n",
       "    </tr>\n",
       "    <tr>\n",
       "      <th>4</th>\n",
       "      <td>7CEFF5C32BA1F3B186E7838C7D3FE25E</td>\n",
       "      <td>222984</td>\n",
       "      <td>5</td>\n",
       "      <td>AK</td>\n",
       "      <td>AK</td>\n",
       "      <td>MIAMI</td>\n",
       "      <td>MI</td>\n",
       "      <td>EASTERN</td>\n",
       "      <td>COUPLES</td>\n",
       "    </tr>\n",
       "  </tbody>\n",
       "</table>\n",
       "</div>"
      ],
      "text/plain": [
       "                             UserID  ItemID  Rating UserState UserTimeZone  \\\n",
       "0  5C28F393B23BB894523AE7126A7AE445  219668       5        AK           AK   \n",
       "1  3FA27F6E8AC712A82C69C4EDD8B912CC  223860       5        AK           AK   \n",
       "2  B99CFBB5411EDC8881D13B7A4B313ADA   75680       5        AK           AK   \n",
       "3  3FA27F6E8AC712A82C69C4EDD8B912CC  224783       5        AK           AK   \n",
       "4  7CEFF5C32BA1F3B186E7838C7D3FE25E  222984       5        AK           AK   \n",
       "\n",
       "     ItemCity ItemState ItemTimeZone TripType  \n",
       "0  GREENSBORO        NC      EASTERN     SOLO  \n",
       "1     PHOENIX        AZ     MOUNTAIN     SOLO  \n",
       "2     ANAHEIM        CA      PACIFIC   FAMILY  \n",
       "3     SEATTLE        WA      PACIFIC     SOLO  \n",
       "4       MIAMI        MI      EASTERN  COUPLES  "
      ]
     },
     "execution_count": 4,
     "metadata": {},
     "output_type": "execute_result"
    }
   ],
   "source": [
    "data_df2.head()"
   ]
  },
  {
   "cell_type": "code",
   "execution_count": 5,
   "metadata": {},
   "outputs": [
    {
     "data": {
      "text/plain": [
       "NEWYORK         647\n",
       "LASVEGAS        553\n",
       "ORLANDO         516\n",
       "WASHINGTONDC    506\n",
       "PHILADELPHIA    493\n",
       "               ... \n",
       "FRISCO            6\n",
       "NAPERVILLE        5\n",
       "SYRACUSE          4\n",
       "CHULA VISTA       3\n",
       "GARLAND           2\n",
       "Name: ItemCity, Length: 107, dtype: int64"
      ]
     },
     "execution_count": 5,
     "metadata": {},
     "output_type": "execute_result"
    }
   ],
   "source": [
    "data_df2['ItemCity'].value_counts()"
   ]
  },
  {
   "cell_type": "code",
   "execution_count": 6,
   "metadata": {},
   "outputs": [
    {
     "data": {
      "text/plain": [
       "27783    19\n",
       "40423    16\n",
       "13087    16\n",
       "52194    12\n",
       "14195    12\n",
       "         ..\n",
       "11063     3\n",
       "51983     3\n",
       "19191     3\n",
       "730       3\n",
       "47181     3\n",
       "Name: ID_USER, Length: 1202, dtype: int64"
      ]
     },
     "execution_count": 6,
     "metadata": {},
     "output_type": "execute_result"
    }
   ],
   "source": [
    "data_df1['ID_USER'].value_counts()"
   ]
  },
  {
   "cell_type": "code",
   "execution_count": 7,
   "metadata": {},
   "outputs": [
    {
     "data": {
      "text/html": [
       "<div>\n",
       "<style scoped>\n",
       "    .dataframe tbody tr th:only-of-type {\n",
       "        vertical-align: middle;\n",
       "    }\n",
       "\n",
       "    .dataframe tbody tr th {\n",
       "        vertical-align: top;\n",
       "    }\n",
       "\n",
       "    .dataframe thead th {\n",
       "        text-align: right;\n",
       "    }\n",
       "</style>\n",
       "<table border=\"1\" class=\"dataframe\">\n",
       "  <thead>\n",
       "    <tr style=\"text-align: right;\">\n",
       "      <th></th>\n",
       "      <th>UserID</th>\n",
       "      <th>ItemID</th>\n",
       "      <th>Rating</th>\n",
       "      <th>UserState</th>\n",
       "      <th>UserTimeZone</th>\n",
       "      <th>ItemCity</th>\n",
       "      <th>ItemState</th>\n",
       "      <th>ItemTimeZone</th>\n",
       "      <th>TripType</th>\n",
       "    </tr>\n",
       "  </thead>\n",
       "  <tbody>\n",
       "    <tr>\n",
       "      <th>0</th>\n",
       "      <td>875</td>\n",
       "      <td>219668</td>\n",
       "      <td>5</td>\n",
       "      <td>AK</td>\n",
       "      <td>AK</td>\n",
       "      <td>GREENSBORO</td>\n",
       "      <td>NC</td>\n",
       "      <td>EASTERN</td>\n",
       "      <td>SOLO</td>\n",
       "    </tr>\n",
       "    <tr>\n",
       "      <th>1</th>\n",
       "      <td>609</td>\n",
       "      <td>223860</td>\n",
       "      <td>5</td>\n",
       "      <td>AK</td>\n",
       "      <td>AK</td>\n",
       "      <td>PHOENIX</td>\n",
       "      <td>AZ</td>\n",
       "      <td>MOUNTAIN</td>\n",
       "      <td>SOLO</td>\n",
       "    </tr>\n",
       "    <tr>\n",
       "      <th>2</th>\n",
       "      <td>1779</td>\n",
       "      <td>75680</td>\n",
       "      <td>5</td>\n",
       "      <td>AK</td>\n",
       "      <td>AK</td>\n",
       "      <td>ANAHEIM</td>\n",
       "      <td>CA</td>\n",
       "      <td>PACIFIC</td>\n",
       "      <td>FAMILY</td>\n",
       "    </tr>\n",
       "    <tr>\n",
       "      <th>3</th>\n",
       "      <td>609</td>\n",
       "      <td>224783</td>\n",
       "      <td>5</td>\n",
       "      <td>AK</td>\n",
       "      <td>AK</td>\n",
       "      <td>SEATTLE</td>\n",
       "      <td>WA</td>\n",
       "      <td>PACIFIC</td>\n",
       "      <td>SOLO</td>\n",
       "    </tr>\n",
       "    <tr>\n",
       "      <th>4</th>\n",
       "      <td>1183</td>\n",
       "      <td>222984</td>\n",
       "      <td>5</td>\n",
       "      <td>AK</td>\n",
       "      <td>AK</td>\n",
       "      <td>MIAMI</td>\n",
       "      <td>MI</td>\n",
       "      <td>EASTERN</td>\n",
       "      <td>COUPLES</td>\n",
       "    </tr>\n",
       "  </tbody>\n",
       "</table>\n",
       "</div>"
      ],
      "text/plain": [
       "   UserID  ItemID  Rating UserState UserTimeZone    ItemCity ItemState  \\\n",
       "0     875  219668       5        AK           AK  GREENSBORO        NC   \n",
       "1     609  223860       5        AK           AK     PHOENIX        AZ   \n",
       "2    1779   75680       5        AK           AK     ANAHEIM        CA   \n",
       "3     609  224783       5        AK           AK     SEATTLE        WA   \n",
       "4    1183  222984       5        AK           AK       MIAMI        MI   \n",
       "\n",
       "  ItemTimeZone TripType  \n",
       "0      EASTERN     SOLO  \n",
       "1     MOUNTAIN     SOLO  \n",
       "2      PACIFIC   FAMILY  \n",
       "3      PACIFIC     SOLO  \n",
       "4      EASTERN  COUPLES  "
      ]
     },
     "execution_count": 7,
     "metadata": {},
     "output_type": "execute_result"
    }
   ],
   "source": [
    "le = LabelEncoder()\n",
    "y = le.fit_transform(data_df2['UserID'])\n",
    "data_df2['UserID'] = y\n",
    "data_df2.head()"
   ]
  },
  {
   "cell_type": "code",
   "execution_count": 8,
   "metadata": {},
   "outputs": [],
   "source": [
    "data_df2['UserID'] = data_df2['UserID'] + 2370"
   ]
  },
  {
   "cell_type": "code",
   "execution_count": 9,
   "metadata": {},
   "outputs": [],
   "source": [
    "df1 = data_df1[['ID_USER','ID_HOTEL','Rating','Trip Type']]\n",
    "df1 = df1.rename(columns = {'ID_USER':'userID','ID_HOTEL':'itemID','Rating':'rating','Trip Type':'TripType'})"
   ]
  },
  {
   "cell_type": "code",
   "execution_count": 10,
   "metadata": {},
   "outputs": [],
   "source": [
    "df2 = data_df2[['UserID','ItemID','Rating','TripType']]\n",
    "df2 = df2.rename(columns = {'UserID':'userID','ItemID':'itemID','Rating':'rating'})"
   ]
  },
  {
   "cell_type": "code",
   "execution_count": 11,
   "metadata": {},
   "outputs": [
    {
     "data": {
      "text/plain": [
       "COUPLES     4701\n",
       "SOLO        2997\n",
       "FAMILY      2921\n",
       "BUSINESS    2794\n",
       "FRIENDS      762\n",
       "Name: TripType, dtype: int64"
      ]
     },
     "execution_count": 11,
     "metadata": {},
     "output_type": "execute_result"
    }
   ],
   "source": [
    "df2['TripType'].value_counts()"
   ]
  },
  {
   "cell_type": "code",
   "execution_count": 12,
   "metadata": {},
   "outputs": [
    {
     "data": {
      "text/plain": [
       "3    2062\n",
       "2    1005\n",
       "1     771\n",
       "4     635\n",
       "5     196\n",
       "Name: TripType, dtype: int64"
      ]
     },
     "execution_count": 12,
     "metadata": {},
     "output_type": "execute_result"
    }
   ],
   "source": [
    "df1['TripType'].value_counts()"
   ]
  },
  {
   "cell_type": "code",
   "execution_count": 13,
   "metadata": {},
   "outputs": [],
   "source": [
    "triptype = {'FAMILY':1,'COUPLES':2,'BUSINESS':3,'SOLO':4,'FRIENDS':5}\n",
    "df2['TripType'] = df2['TripType'].map(triptype)"
   ]
  },
  {
   "cell_type": "code",
   "execution_count": 14,
   "metadata": {},
   "outputs": [],
   "source": [
    "frame = [df1,df2]\n",
    "df_final = pd.concat(frame)"
   ]
  },
  {
   "cell_type": "code",
   "execution_count": 15,
   "metadata": {},
   "outputs": [],
   "source": [
    "df_final = df_final.reset_index()"
   ]
  },
  {
   "cell_type": "code",
   "execution_count": 16,
   "metadata": {},
   "outputs": [],
   "source": [
    "del df_final['index']"
   ]
  },
  {
   "cell_type": "code",
   "execution_count": 17,
   "metadata": {},
   "outputs": [],
   "source": [
    "context_explain = df_final.copy()\n",
    "context_explain = context_explain.astype('float')\n",
    "context_explain.iloc[:,3:] = context_explain.iloc[:,3:].astype('object')\n",
    "context_test_user = pd.get_dummies(context_explain)"
   ]
  },
  {
   "cell_type": "code",
   "execution_count": 18,
   "metadata": {},
   "outputs": [
    {
     "name": "stderr",
     "output_type": "stream",
     "text": [
      "/home/jinfeng/anaconda3/lib/python3.8/site-packages/numpy/lib/function_base.py:2559: RuntimeWarning: invalid value encountered in true_divide\n",
      "  c /= stddev[:, None]\n",
      "/home/jinfeng/anaconda3/lib/python3.8/site-packages/numpy/lib/function_base.py:2560: RuntimeWarning: invalid value encountered in true_divide\n",
      "  c /= stddev[None, :]\n",
      "/home/jinfeng/anaconda3/lib/python3.8/site-packages/numpy/lib/function_base.py:2551: RuntimeWarning: Degrees of freedom <= 0 for slice\n",
      "  c = cov(x, y, rowvar)\n",
      "/home/jinfeng/anaconda3/lib/python3.8/site-packages/numpy/lib/function_base.py:2480: RuntimeWarning: divide by zero encountered in true_divide\n",
      "  c *= np.true_divide(1, fact)\n",
      "/home/jinfeng/anaconda3/lib/python3.8/site-packages/numpy/lib/function_base.py:2480: RuntimeWarning: invalid value encountered in multiply\n",
      "  c *= np.true_divide(1, fact)\n"
     ]
    }
   ],
   "source": [
    "def calculate_correlation(context):\n",
    "    user_context_correlation = dict()\n",
    "    context_user_correlation = dict()\n",
    "    item_context_correlation = dict()\n",
    "    context_item_correlation = dict()\n",
    "    \n",
    "    context_test_user = context.copy()\n",
    "\n",
    "    cluster_set = list(set(context_test_user['userID'].values))\n",
    "    for cluster in cluster_set:\n",
    "        user_context_correlation.setdefault(cluster, defaultdict())\n",
    "        test = context_test_user[context_test_user['userID'] == cluster]\n",
    "        for context_factor in test.columns[3:]:\n",
    "            X = np.vstack([test['rating'].values, test[context_factor].values])\n",
    "            d2 = np.corrcoef(X)[0][1]\n",
    "            user_context_correlation[cluster][context_factor] = d2\n",
    "\n",
    "    for context_factor in context_test_user.columns[3:]:\n",
    "        context_user_correlation.setdefault(context_factor, defaultdict())\n",
    "        for cluster in cluster_set:\n",
    "            test = context_test_user[context_test_user['userID'] == cluster]\n",
    "            X = np.vstack([test['rating'].values, test[context_factor].values])\n",
    "            d2 = np.corrcoef(X)[0][1]\n",
    "            context_user_correlation[context_factor][cluster] = d2\n",
    "\n",
    "    cluster_item = list(set(context_test_user['itemID'].values))\n",
    "    for cluster in cluster_item:\n",
    "        item_context_correlation.setdefault(cluster, defaultdict())\n",
    "        test = context_test_user[context_test_user['itemID'] == cluster]\n",
    "        for context_factor in test.columns[3:]:\n",
    "            X = np.vstack([test['rating'].values, test[context_factor].values])\n",
    "            d2 = np.corrcoef(X)[0][1]\n",
    "            item_context_correlation[cluster][context_factor] = d2\n",
    "\n",
    "    for context_factor in context_test_user.columns[3:]:\n",
    "        context_item_correlation.setdefault(context_factor, defaultdict())\n",
    "        for cluster in cluster_item:\n",
    "            test = context_test_user[context_test_user['itemID'] == cluster]\n",
    "            X = np.vstack([test['rating'].values, test[context_factor].values])\n",
    "            d2 = np.corrcoef(X)[0][1]\n",
    "            context_item_correlation[context_factor][cluster] = d2\n",
    "\n",
    "    \n",
    "    return user_context_correlation, context_user_correlation, item_context_correlation, context_item_correlation\n",
    "user_context_correlation, context_user_correlation, item_context_correlation, context_item_correlation = calculate_correlation(context_test_user)"
   ]
  },
  {
   "cell_type": "code",
   "execution_count": 19,
   "metadata": {},
   "outputs": [],
   "source": [
    "def cosine_similarity(x,y):\n",
    "    x = np.array(x)\n",
    "    y = np.array(y)\n",
    "    where1 = np.isnan(x)\n",
    "    x[where1] = 0.00001\n",
    "    where2 = np.isnan(y)\n",
    "    y[where2] = 0.00001\n",
    "    num = x.dot(y.T)\n",
    "    denom = np.linalg.norm(x) * np.linalg.norm(y)\n",
    "    return num / denom\n",
    "def cal_similarity_context(x,tg):\n",
    "    x['sim_context'] = None\n",
    "    for j in x.index:\n",
    "        x['sim_context'][j] = cosine_similarity(x['context_vector'][tg],x['context_vector'][j])\n",
    "    return x\n",
    "def select_local(train_data,i):\n",
    "    df = train_data.copy()\n",
    "    context_test_rec = cal_similarity_context(df,i)\n",
    "    local = context_test_rec[context_test_rec['sim_context'] > 0.5]\n",
    "    media = local.copy()\n",
    "    localt = media.drop(index=[i])\n",
    "    return localt,local\n",
    "def model_train_for_rec(train_data,i):\n",
    "    localt,local = select_local(train_data,i)\n",
    "    reader = Reader(rating_scale=(1, 5))\n",
    "    data = Dataset.load_from_df(localt[['userID', 'itemID', 'rating']], reader)\n",
    "    param_grid = {'n_factors': [25, 30, 35, 40],'n_epochs': [5, 10], 'lr_all': [0.002, 0.005],\n",
    "              'reg_all': [0.4, 0.6]}\n",
    "    gs = GridSearchCV(SVD, param_grid, measures=['rmse', 'mae'], cv=3)\n",
    "    gs.fit(data)\n",
    "    algo = gs.best_estimator['rmse']\n",
    "    algo.fit(data.build_full_trainset())\n",
    "    return algo,localt,local"
   ]
  },
  {
   "cell_type": "code",
   "execution_count": 20,
   "metadata": {},
   "outputs": [
    {
     "name": "stderr",
     "output_type": "stream",
     "text": [
      "<ipython-input-20-760d607483d7>:8: SettingWithCopyWarning: \n",
      "A value is trying to be set on a copy of a slice from a DataFrame\n",
      "\n",
      "See the caveats in the documentation: https://pandas.pydata.org/pandas-docs/stable/user_guide/indexing.html#returning-a-view-versus-a-copy\n",
      "  test_try['context_vector'][i] = []\n"
     ]
    }
   ],
   "source": [
    "test_try = context_explain.copy()\n",
    "test_try.iloc[:,3:] = test_try.iloc[:,3:].astype('object')\n",
    "test_try = pd.get_dummies(test_try)\n",
    "test_try['context_vector'] = None\n",
    "\n",
    "for i in test_try.index:\n",
    "    cluster = test_try['userID'][i]\n",
    "    test_try['context_vector'][i] = []\n",
    "    for c in test_try.columns[3:]:\n",
    "        if test_try[c][i] == 1:\n",
    "            test_try['context_vector'][i].append(user_context_correlation[cluster][c])\n"
   ]
  },
  {
   "cell_type": "code",
   "execution_count": 21,
   "metadata": {},
   "outputs": [],
   "source": [
    "def recommend_all(x):\n",
    "  res = []\n",
    "  for items in x:\n",
    "    items  = np.insert(items,2,1) \n",
    "    usadata = items\n",
    "    context = context_explain.copy()\n",
    "\n",
    "    context.loc[-1] = usadata\n",
    "    context.iloc[:,3:] = context.iloc[:,3:].astype('object')\n",
    "    context = pd.get_dummies(context)\n",
    "    context['context_vector'] = None\n",
    "    cluster = context['userID'][-1]\n",
    "    context['context_vector'][-1] = []\n",
    "    for c in context.columns[3:]:\n",
    "        if context[c][-1] == 1:\n",
    "            context['context_vector'][-1].append(user_context_correlation[cluster][c])\n",
    "    rec_mid = test_try.copy()\n",
    "    rec_mid.loc[-1] = context.iloc[-1].values\n",
    "    algo,localt,local = model_train_for_rec(rec_mid,-1)\n",
    "    rec = algo.predict(usadata[0], usadata[1])\n",
    "    rec = rec.est\n",
    "    res.append(rec)\n",
    "  return np.array(res)\n",
    "  "
   ]
  },
  {
   "cell_type": "code",
   "execution_count": 22,
   "metadata": {},
   "outputs": [],
   "source": [
    "def ty(x):\n",
    "  res = []\n",
    "  for items in x:\n",
    "    usadata = usadata_rec.copy()\n",
    "    context = context_explain.copy()\n",
    "    for item in items:\n",
    "      usadata.append(item)\n",
    "    context.loc[-1] = usadata\n",
    "    context.iloc[:,3:] = context.iloc[:,3:].astype('object')\n",
    "    context = pd.get_dummies(context)\n",
    "    context['context_vector'] = None\n",
    "    cluster = context['userID'][-1]\n",
    "    context['context_vector'][-1] = []\n",
    "    for c in context.columns[3:]:\n",
    "        if context[c][-1] == 1:\n",
    "            context['context_vector'][-1].append(user_context_correlation[cluster][c])\n",
    "    rec_mid = test_try.copy()\n",
    "    rec_mid.loc[-1] = context.iloc[-1].values\n",
    "    algo,localt,local = model_train_for_rec(rec_mid,-1)\n",
    "    rec = algo.predict(usadata[0], usadata[1])\n",
    "    rec = rec.est\n",
    "    res.append(rec)\n",
    "  return np.array(res)\n",
    "  "
   ]
  },
  {
   "cell_type": "code",
   "execution_count": 26,
   "metadata": {},
   "outputs": [],
   "source": [
    "usadata_rec = [45,105170,0]\n",
    "context_info = [1]\n",
    "context_info = np.reshape(context_info, (1, len(context_info)))\n",
    "\n",
    "usadata_rec_all = [45,105170,3]\n",
    "usadata_rec_all = np.reshape(usadata_rec_all, (1, len(usadata_rec_all)))\n",
    "#context_info = np.reshape(context_info, (1, len(context_info)))"
   ]
  },
  {
   "cell_type": "code",
   "execution_count": 25,
   "metadata": {},
   "outputs": [
    {
     "name": "stderr",
     "output_type": "stream",
     "text": [
      "<ipython-input-22-78b21de2d2b0>:13: SettingWithCopyWarning: \n",
      "A value is trying to be set on a copy of a slice from a DataFrame\n",
      "\n",
      "See the caveats in the documentation: https://pandas.pydata.org/pandas-docs/stable/user_guide/indexing.html#returning-a-view-versus-a-copy\n",
      "  context['context_vector'][-1] = []\n",
      "<ipython-input-19-f7da5bf99a52>:14: SettingWithCopyWarning: \n",
      "A value is trying to be set on a copy of a slice from a DataFrame\n",
      "\n",
      "See the caveats in the documentation: https://pandas.pydata.org/pandas-docs/stable/user_guide/indexing.html#returning-a-view-versus-a-copy\n",
      "  x['sim_context'][j] = cosine_similarity(x['context_vector'][tg],x['context_vector'][j])\n",
      "<ipython-input-19-f7da5bf99a52>:10: RuntimeWarning: invalid value encountered in double_scalars\n",
      "  return num / denom\n"
     ]
    },
    {
     "data": {
      "text/plain": [
       "array([4.32564958])"
      ]
     },
     "execution_count": 25,
     "metadata": {},
     "output_type": "execute_result"
    }
   ],
   "source": [
    "ty(context_info)"
   ]
  },
  {
   "cell_type": "code",
   "execution_count": 27,
   "metadata": {},
   "outputs": [
    {
     "name": "stderr",
     "output_type": "stream",
     "text": [
      "<ipython-input-21-17176cf7fc06>:13: SettingWithCopyWarning: \n",
      "A value is trying to be set on a copy of a slice from a DataFrame\n",
      "\n",
      "See the caveats in the documentation: https://pandas.pydata.org/pandas-docs/stable/user_guide/indexing.html#returning-a-view-versus-a-copy\n",
      "  context['context_vector'][-1] = []\n",
      "<ipython-input-19-f7da5bf99a52>:14: SettingWithCopyWarning: \n",
      "A value is trying to be set on a copy of a slice from a DataFrame\n",
      "\n",
      "See the caveats in the documentation: https://pandas.pydata.org/pandas-docs/stable/user_guide/indexing.html#returning-a-view-versus-a-copy\n",
      "  x['sim_context'][j] = cosine_similarity(x['context_vector'][tg],x['context_vector'][j])\n",
      "<ipython-input-19-f7da5bf99a52>:10: RuntimeWarning: invalid value encountered in double_scalars\n",
      "  return num / denom\n"
     ]
    },
    {
     "data": {
      "text/plain": [
       "array([4.34604707])"
      ]
     },
     "execution_count": 27,
     "metadata": {},
     "output_type": "execute_result"
    }
   ],
   "source": [
    "recommend_all(usadata_rec_all)"
   ]
  },
  {
   "cell_type": "code",
   "execution_count": 28,
   "metadata": {},
   "outputs": [
    {
     "data": {
      "text/plain": [
       "(1, 1)"
      ]
     },
     "execution_count": 28,
     "metadata": {},
     "output_type": "execute_result"
    }
   ],
   "source": [
    "train = context_explain.iloc[:,3:]\n",
    "summary = train.median().values.reshape((1,train.shape[1]))\n",
    "summary.shape\n",
    "#summary = shap.kmeans(train, 10)"
   ]
  },
  {
   "cell_type": "code",
   "execution_count": 29,
   "metadata": {},
   "outputs": [
    {
     "data": {
      "text/plain": [
       "(1, 3)"
      ]
     },
     "execution_count": 29,
     "metadata": {},
     "output_type": "execute_result"
    }
   ],
   "source": [
    "summary_all = context_explain[['userID','itemID','TripType']]\n",
    "summary_all = summary_all.astype('object')\n",
    "\n",
    "summary_all_a = summary_all.median().values.reshape((1,summary_all.shape[1]))\n",
    "#summary_all_a = shap.kmeans(summary_all,10)\n",
    "\n",
    "summary_all_a.shape\n",
    "#summary = shap.kmeans(train, 10)"
   ]
  },
  {
   "cell_type": "code",
   "execution_count": 33,
   "metadata": {},
   "outputs": [
    {
     "data": {
      "text/html": [
       "<div>\n",
       "<style scoped>\n",
       "    .dataframe tbody tr th:only-of-type {\n",
       "        vertical-align: middle;\n",
       "    }\n",
       "\n",
       "    .dataframe tbody tr th {\n",
       "        vertical-align: top;\n",
       "    }\n",
       "\n",
       "    .dataframe thead th {\n",
       "        text-align: right;\n",
       "    }\n",
       "</style>\n",
       "<table border=\"1\" class=\"dataframe\">\n",
       "  <thead>\n",
       "    <tr style=\"text-align: right;\">\n",
       "      <th></th>\n",
       "      <th>userID</th>\n",
       "      <th>itemID</th>\n",
       "      <th>TripType</th>\n",
       "    </tr>\n",
       "  </thead>\n",
       "  <tbody>\n",
       "    <tr>\n",
       "      <th>0</th>\n",
       "      <td>45</td>\n",
       "      <td>105170</td>\n",
       "      <td>3</td>\n",
       "    </tr>\n",
       "    <tr>\n",
       "      <th>1</th>\n",
       "      <td>45</td>\n",
       "      <td>223229</td>\n",
       "      <td>3</td>\n",
       "    </tr>\n",
       "    <tr>\n",
       "      <th>2</th>\n",
       "      <td>45</td>\n",
       "      <td>258688</td>\n",
       "      <td>3</td>\n",
       "    </tr>\n",
       "    <tr>\n",
       "      <th>3</th>\n",
       "      <td>45</td>\n",
       "      <td>98827</td>\n",
       "      <td>3</td>\n",
       "    </tr>\n",
       "    <tr>\n",
       "      <th>4</th>\n",
       "      <td>45</td>\n",
       "      <td>99518</td>\n",
       "      <td>3</td>\n",
       "    </tr>\n",
       "    <tr>\n",
       "      <th>...</th>\n",
       "      <td>...</td>\n",
       "      <td>...</td>\n",
       "      <td>...</td>\n",
       "    </tr>\n",
       "    <tr>\n",
       "      <th>18839</th>\n",
       "      <td>4293</td>\n",
       "      <td>85377</td>\n",
       "      <td>4</td>\n",
       "    </tr>\n",
       "    <tr>\n",
       "      <th>18840</th>\n",
       "      <td>2712</td>\n",
       "      <td>1.2006e+06</td>\n",
       "      <td>4</td>\n",
       "    </tr>\n",
       "    <tr>\n",
       "      <th>18841</th>\n",
       "      <td>3561</td>\n",
       "      <td>72993</td>\n",
       "      <td>5</td>\n",
       "    </tr>\n",
       "    <tr>\n",
       "      <th>18842</th>\n",
       "      <td>2388</td>\n",
       "      <td>1.23671e+06</td>\n",
       "      <td>1</td>\n",
       "    </tr>\n",
       "    <tr>\n",
       "      <th>18843</th>\n",
       "      <td>2649</td>\n",
       "      <td>89361</td>\n",
       "      <td>3</td>\n",
       "    </tr>\n",
       "  </tbody>\n",
       "</table>\n",
       "<p>18844 rows × 3 columns</p>\n",
       "</div>"
      ],
      "text/plain": [
       "      userID       itemID TripType\n",
       "0         45       105170        3\n",
       "1         45       223229        3\n",
       "2         45       258688        3\n",
       "3         45        98827        3\n",
       "4         45        99518        3\n",
       "...      ...          ...      ...\n",
       "18839   4293        85377        4\n",
       "18840   2712   1.2006e+06        4\n",
       "18841   3561        72993        5\n",
       "18842   2388  1.23671e+06        1\n",
       "18843   2649        89361        3\n",
       "\n",
       "[18844 rows x 3 columns]"
      ]
     },
     "execution_count": 33,
     "metadata": {},
     "output_type": "execute_result"
    }
   ],
   "source": [
    "summary_all"
   ]
  },
  {
   "cell_type": "code",
   "execution_count": 34,
   "metadata": {},
   "outputs": [
    {
     "name": "stderr",
     "output_type": "stream",
     "text": [
      "<ipython-input-21-17176cf7fc06>:13: SettingWithCopyWarning: \n",
      "A value is trying to be set on a copy of a slice from a DataFrame\n",
      "\n",
      "See the caveats in the documentation: https://pandas.pydata.org/pandas-docs/stable/user_guide/indexing.html#returning-a-view-versus-a-copy\n",
      "  context['context_vector'][-1] = []\n",
      "<ipython-input-19-f7da5bf99a52>:14: SettingWithCopyWarning: \n",
      "A value is trying to be set on a copy of a slice from a DataFrame\n",
      "\n",
      "See the caveats in the documentation: https://pandas.pydata.org/pandas-docs/stable/user_guide/indexing.html#returning-a-view-versus-a-copy\n",
      "  x['sim_context'][j] = cosine_similarity(x['context_vector'][tg],x['context_vector'][j])\n",
      "<ipython-input-19-f7da5bf99a52>:10: RuntimeWarning: invalid value encountered in double_scalars\n",
      "  return num / denom\n"
     ]
    },
    {
     "ename": "KeyError",
     "evalue": "'[-1] not found in axis'",
     "output_type": "error",
     "traceback": [
      "\u001b[0;31m---------------------------------------------------------------------------\u001b[0m",
      "\u001b[0;31mKeyError\u001b[0m                                  Traceback (most recent call last)",
      "\u001b[0;32m<ipython-input-34-72b529d1b44e>\u001b[0m in \u001b[0;36m<module>\u001b[0;34m\u001b[0m\n\u001b[1;32m      9\u001b[0m                     \u001b[0mcategorical_features\u001b[0m\u001b[0;34m=\u001b[0m \u001b[0;34m[\u001b[0m\u001b[0;36m0\u001b[0m\u001b[0;34m,\u001b[0m\u001b[0;36m1\u001b[0m\u001b[0;34m,\u001b[0m\u001b[0;36m2\u001b[0m\u001b[0;34m]\u001b[0m\u001b[0;34m,\u001b[0m\u001b[0;34m\u001b[0m\u001b[0;34m\u001b[0m\u001b[0m\n\u001b[1;32m     10\u001b[0m                     verbose=True, mode='regression')\n\u001b[0;32m---> 11\u001b[0;31m exp = explainer.explain_instance(summary_all.iloc[2], \n\u001b[0m\u001b[1;32m     12\u001b[0m      recommend_all, num_features=3,num_samples=100)\n\u001b[1;32m     13\u001b[0m \u001b[0mexp\u001b[0m\u001b[0;34m.\u001b[0m\u001b[0mas_pyplot_figure\u001b[0m\u001b[0;34m(\u001b[0m\u001b[0;34m)\u001b[0m\u001b[0;34m\u001b[0m\u001b[0;34m\u001b[0m\u001b[0m\n",
      "\u001b[0;32m~/anaconda3/lib/python3.8/site-packages/lime/lime_tabular.py\u001b[0m in \u001b[0;36mexplain_instance\u001b[0;34m(self, data_row, predict_fn, labels, top_labels, num_features, num_samples, distance_metric, model_regressor)\u001b[0m\n\u001b[1;32m    353\u001b[0m         ).ravel()\n\u001b[1;32m    354\u001b[0m \u001b[0;34m\u001b[0m\u001b[0m\n\u001b[0;32m--> 355\u001b[0;31m         \u001b[0myss\u001b[0m \u001b[0;34m=\u001b[0m \u001b[0mpredict_fn\u001b[0m\u001b[0;34m(\u001b[0m\u001b[0minverse\u001b[0m\u001b[0;34m)\u001b[0m\u001b[0;34m\u001b[0m\u001b[0;34m\u001b[0m\u001b[0m\n\u001b[0m\u001b[1;32m    356\u001b[0m \u001b[0;34m\u001b[0m\u001b[0m\n\u001b[1;32m    357\u001b[0m         \u001b[0;31m# for classification, the model needs to provide a list of tuples - classes\u001b[0m\u001b[0;34m\u001b[0m\u001b[0;34m\u001b[0m\u001b[0;34m\u001b[0m\u001b[0m\n",
      "\u001b[0;32m<ipython-input-21-17176cf7fc06>\u001b[0m in \u001b[0;36mrecommend_all\u001b[0;34m(x)\u001b[0m\n\u001b[1;32m     17\u001b[0m     \u001b[0mrec_mid\u001b[0m \u001b[0;34m=\u001b[0m \u001b[0mtest_try\u001b[0m\u001b[0;34m.\u001b[0m\u001b[0mcopy\u001b[0m\u001b[0;34m(\u001b[0m\u001b[0;34m)\u001b[0m\u001b[0;34m\u001b[0m\u001b[0;34m\u001b[0m\u001b[0m\n\u001b[1;32m     18\u001b[0m     \u001b[0mrec_mid\u001b[0m\u001b[0;34m.\u001b[0m\u001b[0mloc\u001b[0m\u001b[0;34m[\u001b[0m\u001b[0;34m-\u001b[0m\u001b[0;36m1\u001b[0m\u001b[0;34m]\u001b[0m \u001b[0;34m=\u001b[0m \u001b[0mcontext\u001b[0m\u001b[0;34m.\u001b[0m\u001b[0miloc\u001b[0m\u001b[0;34m[\u001b[0m\u001b[0;34m-\u001b[0m\u001b[0;36m1\u001b[0m\u001b[0;34m]\u001b[0m\u001b[0;34m.\u001b[0m\u001b[0mvalues\u001b[0m\u001b[0;34m\u001b[0m\u001b[0;34m\u001b[0m\u001b[0m\n\u001b[0;32m---> 19\u001b[0;31m     \u001b[0malgo\u001b[0m\u001b[0;34m,\u001b[0m\u001b[0mlocalt\u001b[0m\u001b[0;34m,\u001b[0m\u001b[0mlocal\u001b[0m \u001b[0;34m=\u001b[0m \u001b[0mmodel_train_for_rec\u001b[0m\u001b[0;34m(\u001b[0m\u001b[0mrec_mid\u001b[0m\u001b[0;34m,\u001b[0m\u001b[0;34m-\u001b[0m\u001b[0;36m1\u001b[0m\u001b[0;34m)\u001b[0m\u001b[0;34m\u001b[0m\u001b[0;34m\u001b[0m\u001b[0m\n\u001b[0m\u001b[1;32m     20\u001b[0m     \u001b[0mrec\u001b[0m \u001b[0;34m=\u001b[0m \u001b[0malgo\u001b[0m\u001b[0;34m.\u001b[0m\u001b[0mpredict\u001b[0m\u001b[0;34m(\u001b[0m\u001b[0musadata\u001b[0m\u001b[0;34m[\u001b[0m\u001b[0;36m0\u001b[0m\u001b[0;34m]\u001b[0m\u001b[0;34m,\u001b[0m \u001b[0musadata\u001b[0m\u001b[0;34m[\u001b[0m\u001b[0;36m1\u001b[0m\u001b[0;34m]\u001b[0m\u001b[0;34m)\u001b[0m\u001b[0;34m\u001b[0m\u001b[0;34m\u001b[0m\u001b[0m\n\u001b[1;32m     21\u001b[0m     \u001b[0mrec\u001b[0m \u001b[0;34m=\u001b[0m \u001b[0mrec\u001b[0m\u001b[0;34m.\u001b[0m\u001b[0mest\u001b[0m\u001b[0;34m\u001b[0m\u001b[0;34m\u001b[0m\u001b[0m\n",
      "\u001b[0;32m<ipython-input-19-f7da5bf99a52>\u001b[0m in \u001b[0;36mmodel_train_for_rec\u001b[0;34m(train_data, i)\u001b[0m\n\u001b[1;32m     22\u001b[0m     \u001b[0;32mreturn\u001b[0m \u001b[0mlocalt\u001b[0m\u001b[0;34m,\u001b[0m\u001b[0mlocal\u001b[0m\u001b[0;34m\u001b[0m\u001b[0;34m\u001b[0m\u001b[0m\n\u001b[1;32m     23\u001b[0m \u001b[0;32mdef\u001b[0m \u001b[0mmodel_train_for_rec\u001b[0m\u001b[0;34m(\u001b[0m\u001b[0mtrain_data\u001b[0m\u001b[0;34m,\u001b[0m\u001b[0mi\u001b[0m\u001b[0;34m)\u001b[0m\u001b[0;34m:\u001b[0m\u001b[0;34m\u001b[0m\u001b[0;34m\u001b[0m\u001b[0m\n\u001b[0;32m---> 24\u001b[0;31m     \u001b[0mlocalt\u001b[0m\u001b[0;34m,\u001b[0m\u001b[0mlocal\u001b[0m \u001b[0;34m=\u001b[0m \u001b[0mselect_local\u001b[0m\u001b[0;34m(\u001b[0m\u001b[0mtrain_data\u001b[0m\u001b[0;34m,\u001b[0m\u001b[0mi\u001b[0m\u001b[0;34m)\u001b[0m\u001b[0;34m\u001b[0m\u001b[0;34m\u001b[0m\u001b[0m\n\u001b[0m\u001b[1;32m     25\u001b[0m     \u001b[0mreader\u001b[0m \u001b[0;34m=\u001b[0m \u001b[0mReader\u001b[0m\u001b[0;34m(\u001b[0m\u001b[0mrating_scale\u001b[0m\u001b[0;34m=\u001b[0m\u001b[0;34m(\u001b[0m\u001b[0;36m1\u001b[0m\u001b[0;34m,\u001b[0m \u001b[0;36m5\u001b[0m\u001b[0;34m)\u001b[0m\u001b[0;34m)\u001b[0m\u001b[0;34m\u001b[0m\u001b[0;34m\u001b[0m\u001b[0m\n\u001b[1;32m     26\u001b[0m     \u001b[0mdata\u001b[0m \u001b[0;34m=\u001b[0m \u001b[0mDataset\u001b[0m\u001b[0;34m.\u001b[0m\u001b[0mload_from_df\u001b[0m\u001b[0;34m(\u001b[0m\u001b[0mlocalt\u001b[0m\u001b[0;34m[\u001b[0m\u001b[0;34m[\u001b[0m\u001b[0;34m'userID'\u001b[0m\u001b[0;34m,\u001b[0m \u001b[0;34m'itemID'\u001b[0m\u001b[0;34m,\u001b[0m \u001b[0;34m'rating'\u001b[0m\u001b[0;34m]\u001b[0m\u001b[0;34m]\u001b[0m\u001b[0;34m,\u001b[0m \u001b[0mreader\u001b[0m\u001b[0;34m)\u001b[0m\u001b[0;34m\u001b[0m\u001b[0;34m\u001b[0m\u001b[0m\n",
      "\u001b[0;32m<ipython-input-19-f7da5bf99a52>\u001b[0m in \u001b[0;36mselect_local\u001b[0;34m(train_data, i)\u001b[0m\n\u001b[1;32m     19\u001b[0m     \u001b[0mlocal\u001b[0m \u001b[0;34m=\u001b[0m \u001b[0mcontext_test_rec\u001b[0m\u001b[0;34m[\u001b[0m\u001b[0mcontext_test_rec\u001b[0m\u001b[0;34m[\u001b[0m\u001b[0;34m'sim_context'\u001b[0m\u001b[0;34m]\u001b[0m \u001b[0;34m>\u001b[0m \u001b[0;36m0.5\u001b[0m\u001b[0;34m]\u001b[0m\u001b[0;34m\u001b[0m\u001b[0;34m\u001b[0m\u001b[0m\n\u001b[1;32m     20\u001b[0m     \u001b[0mmedia\u001b[0m \u001b[0;34m=\u001b[0m \u001b[0mlocal\u001b[0m\u001b[0;34m.\u001b[0m\u001b[0mcopy\u001b[0m\u001b[0;34m(\u001b[0m\u001b[0;34m)\u001b[0m\u001b[0;34m\u001b[0m\u001b[0;34m\u001b[0m\u001b[0m\n\u001b[0;32m---> 21\u001b[0;31m     \u001b[0mlocalt\u001b[0m \u001b[0;34m=\u001b[0m \u001b[0mmedia\u001b[0m\u001b[0;34m.\u001b[0m\u001b[0mdrop\u001b[0m\u001b[0;34m(\u001b[0m\u001b[0mindex\u001b[0m\u001b[0;34m=\u001b[0m\u001b[0;34m[\u001b[0m\u001b[0mi\u001b[0m\u001b[0;34m]\u001b[0m\u001b[0;34m)\u001b[0m\u001b[0;34m\u001b[0m\u001b[0;34m\u001b[0m\u001b[0m\n\u001b[0m\u001b[1;32m     22\u001b[0m     \u001b[0;32mreturn\u001b[0m \u001b[0mlocalt\u001b[0m\u001b[0;34m,\u001b[0m\u001b[0mlocal\u001b[0m\u001b[0;34m\u001b[0m\u001b[0;34m\u001b[0m\u001b[0m\n\u001b[1;32m     23\u001b[0m \u001b[0;32mdef\u001b[0m \u001b[0mmodel_train_for_rec\u001b[0m\u001b[0;34m(\u001b[0m\u001b[0mtrain_data\u001b[0m\u001b[0;34m,\u001b[0m\u001b[0mi\u001b[0m\u001b[0;34m)\u001b[0m\u001b[0;34m:\u001b[0m\u001b[0;34m\u001b[0m\u001b[0;34m\u001b[0m\u001b[0m\n",
      "\u001b[0;32m~/anaconda3/lib/python3.8/site-packages/pandas/core/frame.py\u001b[0m in \u001b[0;36mdrop\u001b[0;34m(self, labels, axis, index, columns, level, inplace, errors)\u001b[0m\n\u001b[1;32m   3988\u001b[0m                 \u001b[0mweight\u001b[0m  \u001b[0;36m1.0\u001b[0m     \u001b[0;36m0.8\u001b[0m\u001b[0;34m\u001b[0m\u001b[0;34m\u001b[0m\u001b[0m\n\u001b[1;32m   3989\u001b[0m         \"\"\"\n\u001b[0;32m-> 3990\u001b[0;31m         return super().drop(\n\u001b[0m\u001b[1;32m   3991\u001b[0m             \u001b[0mlabels\u001b[0m\u001b[0;34m=\u001b[0m\u001b[0mlabels\u001b[0m\u001b[0;34m,\u001b[0m\u001b[0;34m\u001b[0m\u001b[0;34m\u001b[0m\u001b[0m\n\u001b[1;32m   3992\u001b[0m             \u001b[0maxis\u001b[0m\u001b[0;34m=\u001b[0m\u001b[0maxis\u001b[0m\u001b[0;34m,\u001b[0m\u001b[0;34m\u001b[0m\u001b[0;34m\u001b[0m\u001b[0m\n",
      "\u001b[0;32m~/anaconda3/lib/python3.8/site-packages/pandas/core/generic.py\u001b[0m in \u001b[0;36mdrop\u001b[0;34m(self, labels, axis, index, columns, level, inplace, errors)\u001b[0m\n\u001b[1;32m   3934\u001b[0m         \u001b[0;32mfor\u001b[0m \u001b[0maxis\u001b[0m\u001b[0;34m,\u001b[0m \u001b[0mlabels\u001b[0m \u001b[0;32min\u001b[0m \u001b[0maxes\u001b[0m\u001b[0;34m.\u001b[0m\u001b[0mitems\u001b[0m\u001b[0;34m(\u001b[0m\u001b[0;34m)\u001b[0m\u001b[0;34m:\u001b[0m\u001b[0;34m\u001b[0m\u001b[0;34m\u001b[0m\u001b[0m\n\u001b[1;32m   3935\u001b[0m             \u001b[0;32mif\u001b[0m \u001b[0mlabels\u001b[0m \u001b[0;32mis\u001b[0m \u001b[0;32mnot\u001b[0m \u001b[0;32mNone\u001b[0m\u001b[0;34m:\u001b[0m\u001b[0;34m\u001b[0m\u001b[0;34m\u001b[0m\u001b[0m\n\u001b[0;32m-> 3936\u001b[0;31m                 \u001b[0mobj\u001b[0m \u001b[0;34m=\u001b[0m \u001b[0mobj\u001b[0m\u001b[0;34m.\u001b[0m\u001b[0m_drop_axis\u001b[0m\u001b[0;34m(\u001b[0m\u001b[0mlabels\u001b[0m\u001b[0;34m,\u001b[0m \u001b[0maxis\u001b[0m\u001b[0;34m,\u001b[0m \u001b[0mlevel\u001b[0m\u001b[0;34m=\u001b[0m\u001b[0mlevel\u001b[0m\u001b[0;34m,\u001b[0m \u001b[0merrors\u001b[0m\u001b[0;34m=\u001b[0m\u001b[0merrors\u001b[0m\u001b[0;34m)\u001b[0m\u001b[0;34m\u001b[0m\u001b[0;34m\u001b[0m\u001b[0m\n\u001b[0m\u001b[1;32m   3937\u001b[0m \u001b[0;34m\u001b[0m\u001b[0m\n\u001b[1;32m   3938\u001b[0m         \u001b[0;32mif\u001b[0m \u001b[0minplace\u001b[0m\u001b[0;34m:\u001b[0m\u001b[0;34m\u001b[0m\u001b[0;34m\u001b[0m\u001b[0m\n",
      "\u001b[0;32m~/anaconda3/lib/python3.8/site-packages/pandas/core/generic.py\u001b[0m in \u001b[0;36m_drop_axis\u001b[0;34m(self, labels, axis, level, errors)\u001b[0m\n\u001b[1;32m   3968\u001b[0m                 \u001b[0mnew_axis\u001b[0m \u001b[0;34m=\u001b[0m \u001b[0maxis\u001b[0m\u001b[0;34m.\u001b[0m\u001b[0mdrop\u001b[0m\u001b[0;34m(\u001b[0m\u001b[0mlabels\u001b[0m\u001b[0;34m,\u001b[0m \u001b[0mlevel\u001b[0m\u001b[0;34m=\u001b[0m\u001b[0mlevel\u001b[0m\u001b[0;34m,\u001b[0m \u001b[0merrors\u001b[0m\u001b[0;34m=\u001b[0m\u001b[0merrors\u001b[0m\u001b[0;34m)\u001b[0m\u001b[0;34m\u001b[0m\u001b[0;34m\u001b[0m\u001b[0m\n\u001b[1;32m   3969\u001b[0m             \u001b[0;32melse\u001b[0m\u001b[0;34m:\u001b[0m\u001b[0;34m\u001b[0m\u001b[0;34m\u001b[0m\u001b[0m\n\u001b[0;32m-> 3970\u001b[0;31m                 \u001b[0mnew_axis\u001b[0m \u001b[0;34m=\u001b[0m \u001b[0maxis\u001b[0m\u001b[0;34m.\u001b[0m\u001b[0mdrop\u001b[0m\u001b[0;34m(\u001b[0m\u001b[0mlabels\u001b[0m\u001b[0;34m,\u001b[0m \u001b[0merrors\u001b[0m\u001b[0;34m=\u001b[0m\u001b[0merrors\u001b[0m\u001b[0;34m)\u001b[0m\u001b[0;34m\u001b[0m\u001b[0;34m\u001b[0m\u001b[0m\n\u001b[0m\u001b[1;32m   3971\u001b[0m             \u001b[0mresult\u001b[0m \u001b[0;34m=\u001b[0m \u001b[0mself\u001b[0m\u001b[0;34m.\u001b[0m\u001b[0mreindex\u001b[0m\u001b[0;34m(\u001b[0m\u001b[0;34m**\u001b[0m\u001b[0;34m{\u001b[0m\u001b[0maxis_name\u001b[0m\u001b[0;34m:\u001b[0m \u001b[0mnew_axis\u001b[0m\u001b[0;34m}\u001b[0m\u001b[0;34m)\u001b[0m\u001b[0;34m\u001b[0m\u001b[0;34m\u001b[0m\u001b[0m\n\u001b[1;32m   3972\u001b[0m \u001b[0;34m\u001b[0m\u001b[0m\n",
      "\u001b[0;32m~/anaconda3/lib/python3.8/site-packages/pandas/core/indexes/base.py\u001b[0m in \u001b[0;36mdrop\u001b[0;34m(self, labels, errors)\u001b[0m\n\u001b[1;32m   5016\u001b[0m         \u001b[0;32mif\u001b[0m \u001b[0mmask\u001b[0m\u001b[0;34m.\u001b[0m\u001b[0many\u001b[0m\u001b[0;34m(\u001b[0m\u001b[0;34m)\u001b[0m\u001b[0;34m:\u001b[0m\u001b[0;34m\u001b[0m\u001b[0;34m\u001b[0m\u001b[0m\n\u001b[1;32m   5017\u001b[0m             \u001b[0;32mif\u001b[0m \u001b[0merrors\u001b[0m \u001b[0;34m!=\u001b[0m \u001b[0;34m\"ignore\"\u001b[0m\u001b[0;34m:\u001b[0m\u001b[0;34m\u001b[0m\u001b[0;34m\u001b[0m\u001b[0m\n\u001b[0;32m-> 5018\u001b[0;31m                 \u001b[0;32mraise\u001b[0m \u001b[0mKeyError\u001b[0m\u001b[0;34m(\u001b[0m\u001b[0;34mf\"{labels[mask]} not found in axis\"\u001b[0m\u001b[0;34m)\u001b[0m\u001b[0;34m\u001b[0m\u001b[0;34m\u001b[0m\u001b[0m\n\u001b[0m\u001b[1;32m   5019\u001b[0m             \u001b[0mindexer\u001b[0m \u001b[0;34m=\u001b[0m \u001b[0mindexer\u001b[0m\u001b[0;34m[\u001b[0m\u001b[0;34m~\u001b[0m\u001b[0mmask\u001b[0m\u001b[0;34m]\u001b[0m\u001b[0;34m\u001b[0m\u001b[0;34m\u001b[0m\u001b[0m\n\u001b[1;32m   5020\u001b[0m         \u001b[0;32mreturn\u001b[0m \u001b[0mself\u001b[0m\u001b[0;34m.\u001b[0m\u001b[0mdelete\u001b[0m\u001b[0;34m(\u001b[0m\u001b[0mindexer\u001b[0m\u001b[0;34m)\u001b[0m\u001b[0;34m\u001b[0m\u001b[0;34m\u001b[0m\u001b[0m\n",
      "\u001b[0;31mKeyError\u001b[0m: '[-1] not found in axis'"
     ]
    }
   ],
   "source": [
    "# summary_all = summary_all.copy()\n",
    "# summary_all['target'] = recommend_all(summary_all.values)\n",
    "\n",
    "import lime\n",
    "import lime.lime_tabular\n",
    "summary_all.astype('object')\n",
    "explainer = lime.lime_tabular.LimeTabularExplainer(summary_all.values,\n",
    "                    feature_names = summary_all.columns, \n",
    "                    categorical_features= [0,1,2],                              \n",
    "                    verbose=True, mode='regression')\n",
    "exp = explainer.explain_instance(summary_all.iloc[2], \n",
    "     recommend_all, num_features=3,num_samples=100)\n",
    "exp.as_pyplot_figure()"
   ]
  },
  {
   "cell_type": "code",
   "execution_count": 31,
   "metadata": {},
   "outputs": [
    {
     "name": "stderr",
     "output_type": "stream",
     "text": [
      "<ipython-input-22-78b21de2d2b0>:13: SettingWithCopyWarning: \n",
      "A value is trying to be set on a copy of a slice from a DataFrame\n",
      "\n",
      "See the caveats in the documentation: https://pandas.pydata.org/pandas-docs/stable/user_guide/indexing.html#returning-a-view-versus-a-copy\n",
      "  context['context_vector'][-1] = []\n",
      "<ipython-input-19-f7da5bf99a52>:14: SettingWithCopyWarning: \n",
      "A value is trying to be set on a copy of a slice from a DataFrame\n",
      "\n",
      "See the caveats in the documentation: https://pandas.pydata.org/pandas-docs/stable/user_guide/indexing.html#returning-a-view-versus-a-copy\n",
      "  x['sim_context'][j] = cosine_similarity(x['context_vector'][tg],x['context_vector'][j])\n",
      "<ipython-input-19-f7da5bf99a52>:10: RuntimeWarning: invalid value encountered in double_scalars\n",
      "  return num / denom\n"
     ]
    },
    {
     "name": "stdout",
     "output_type": "stream",
     "text": [
      "Intercept 4.3477830807626185\n",
      "Prediction_local [4.33411544]\n",
      "Right: 4.329388528766359\n",
      "Figure(432x288)\n",
      "1129.79185628891\n"
     ]
    },
    {
     "data": {
      "image/png": "[encoded data removed]",
      "text/plain": [
       "<Figure size 432x288 with 1 Axes>"
      ]
     },
     "metadata": {
      "needs_background": "light"
     },
     "output_type": "display_data"
    }
   ],
   "source": [
    "import time\n",
    "import lime\n",
    "import lime.lime_tabular\n",
    "train = train.astype('object')\n",
    "\n",
    "explainer = lime.lime_tabular.LimeTabularExplainer(train.values,\n",
    "                                                   feature_names=['TripType'],\n",
    "                                                   class_names=['price'], \n",
    "                                                   categorical_features=[0], \n",
    "                                                   verbose=True, mode='regression')\n",
    "t1 = time.time()\n",
    "exp = explainer.explain_instance(train.iloc[2], \n",
    "     ty,num_features=1,num_samples=100)\n",
    "print(exp.as_pyplot_figure())\n",
    "t2 = time.time()\n",
    "print(t2-t1)"
   ]
  },
  {
   "cell_type": "code",
   "execution_count": 36,
   "metadata": {},
   "outputs": [],
   "source": [
    "import shap"
   ]
  },
  {
   "cell_type": "code",
   "execution_count": 37,
   "metadata": {},
   "outputs": [
    {
     "name": "stdout",
     "output_type": "stream",
     "text": [
      "Help on package shap:\n",
      "\n",
      "NAME\n",
      "    shap - # flake8: noqa\n",
      "\n",
      "PACKAGE CONTENTS\n",
      "    _cext\n",
      "    _explanation\n",
      "    _serializable\n",
      "    actions (package)\n",
      "    benchmark (package)\n",
      "    datasets\n",
      "    explainers (package)\n",
      "    links\n",
      "    maskers (package)\n",
      "    models (package)\n",
      "    plots (package)\n",
      "    utils (package)\n",
      "\n",
      "SUBMODULES\n",
      "    other\n",
      "\n",
      "FUNCTIONS\n",
      "    unsupported(*args, **kwargs)\n",
      "        # plotting (only loaded if matplotlib is present)\n",
      "\n",
      "DATA\n",
      "    have_matplotlib = True\n",
      "\n",
      "VERSION\n",
      "    0.39.0\n",
      "\n",
      "FILE\n",
      "    /home/jinfeng/anaconda3/lib/python3.8/site-packages/shap/__init__.py\n",
      "\n",
      "\n"
     ]
    }
   ],
   "source": [
    "help(shap)"
   ]
  }
 ],
 "metadata": {
  "kernelspec": {
   "display_name": "Python 3",
   "language": "python",
   "name": "python3"
  },
  "language_info": {
   "codemirror_mode": {
    "name": "ipython",
    "version": 3
   },
   "file_extension": ".py",
   "mimetype": "text/x-python",
   "name": "python",
   "nbconvert_exporter": "python",
   "pygments_lexer": "ipython3",
   "version": "3.8.3"
  }
 },
 "nbformat": 4,
 "nbformat_minor": 4
}
