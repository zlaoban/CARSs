{
 "cells": [
  {
   "cell_type": "code",
   "execution_count": 1,
   "metadata": {},
   "outputs": [],
   "source": [
    "import pandas as pd\n",
    "import numpy as np\n",
    "from surprise import NormalPredictor\n",
    "from surprise import Dataset\n",
    "from surprise import Reader\n",
    "from surprise.model_selection import cross_validate\n",
    "from surprise import SVD\n",
    "from surprise import Dataset\n",
    "from surprise.model_selection import GridSearchCV\n",
    "from sklearn.preprocessing import normalize\n",
    "import scipy.cluster.hierarchy as shc\n",
    "import matplotlib.pyplot as plt\n",
    "from sklearn.cluster import AgglomerativeClustering\n",
    "from collections import defaultdict"
   ]
  },
  {
   "cell_type": "code",
   "execution_count": 2,
   "metadata": {},
   "outputs": [],
   "source": [
    "df_movie = pd.read_csv('ratings.txt')"
   ]
  },
  {
   "cell_type": "code",
   "execution_count": 3,
   "metadata": {},
   "outputs": [
    {
     "data": {
      "text/plain": [
       "(5043, 6)"
      ]
     },
     "execution_count": 3,
     "metadata": {},
     "output_type": "execute_result"
    }
   ],
   "source": [
    "df_movie.shape"
   ]
  },
  {
   "cell_type": "code",
   "execution_count": 4,
   "metadata": {},
   "outputs": [],
   "source": [
    "df_movie = df_movie.dropna(axis=0,how='any')"
   ]
  },
  {
   "cell_type": "code",
   "execution_count": 5,
   "metadata": {},
   "outputs": [
    {
     "name": "stdout",
     "output_type": "stream",
     "text": [
      "The number of users is 81\n",
      "The number of users is 79\n",
      "The sparcity of the dataset is 0.43819346772933265\n"
     ]
    }
   ],
   "source": [
    "print(\"The number of users is {}\".format(len(df_movie['userid'].value_counts())))\n",
    "print(\"The number of users is {}\".format(len(df_movie['itemid'].value_counts())))\n",
    "print(\"The sparcity of the dataset is {}\".format(1-df_movie.shape[0]/(len(df_movie['userid'].value_counts())*len(df_movie['itemid'].value_counts()))))"
   ]
  },
  {
   "cell_type": "code",
   "execution_count": 6,
   "metadata": {},
   "outputs": [
    {
     "data": {
      "text/plain": [
       "userid        int64\n",
       "itemid       object\n",
       "rating        int64\n",
       "Time         object\n",
       "Location     object\n",
       "Companion    object\n",
       "dtype: object"
      ]
     },
     "execution_count": 6,
     "metadata": {},
     "output_type": "execute_result"
    }
   ],
   "source": [
    "df_movie.dtypes"
   ]
  },
  {
   "cell_type": "code",
   "execution_count": 7,
   "metadata": {},
   "outputs": [
    {
     "data": {
      "text/html": [
       "<div>\n",
       "<style scoped>\n",
       "    .dataframe tbody tr th:only-of-type {\n",
       "        vertical-align: middle;\n",
       "    }\n",
       "\n",
       "    .dataframe tbody tr th {\n",
       "        vertical-align: top;\n",
       "    }\n",
       "\n",
       "    .dataframe thead th {\n",
       "        text-align: right;\n",
       "    }\n",
       "</style>\n",
       "<table border=\"1\" class=\"dataframe\">\n",
       "  <thead>\n",
       "    <tr style=\"text-align: right;\">\n",
       "      <th></th>\n",
       "      <th>userid</th>\n",
       "      <th>itemid</th>\n",
       "      <th>rating</th>\n",
       "      <th>Time</th>\n",
       "      <th>Location</th>\n",
       "      <th>Companion</th>\n",
       "    </tr>\n",
       "  </thead>\n",
       "  <tbody>\n",
       "    <tr>\n",
       "      <th>148</th>\n",
       "      <td>1003</td>\n",
       "      <td>tt0454876</td>\n",
       "      <td>1</td>\n",
       "      <td>Weekday</td>\n",
       "      <td>Cinema</td>\n",
       "      <td>Alone</td>\n",
       "    </tr>\n",
       "    <tr>\n",
       "      <th>149</th>\n",
       "      <td>1003</td>\n",
       "      <td>tt0120912</td>\n",
       "      <td>1</td>\n",
       "      <td>Weekday</td>\n",
       "      <td>Cinema</td>\n",
       "      <td>Alone</td>\n",
       "    </tr>\n",
       "    <tr>\n",
       "      <th>150</th>\n",
       "      <td>1003</td>\n",
       "      <td>tt3793764</td>\n",
       "      <td>1</td>\n",
       "      <td>Weekday</td>\n",
       "      <td>Cinema</td>\n",
       "      <td>Alone</td>\n",
       "    </tr>\n",
       "    <tr>\n",
       "      <th>151</th>\n",
       "      <td>1003</td>\n",
       "      <td>tt0114148</td>\n",
       "      <td>1</td>\n",
       "      <td>Weekday</td>\n",
       "      <td>Cinema</td>\n",
       "      <td>Alone</td>\n",
       "    </tr>\n",
       "    <tr>\n",
       "      <th>152</th>\n",
       "      <td>1003</td>\n",
       "      <td>tt0110357</td>\n",
       "      <td>1</td>\n",
       "      <td>Weekday</td>\n",
       "      <td>Cinema</td>\n",
       "      <td>Alone</td>\n",
       "    </tr>\n",
       "  </tbody>\n",
       "</table>\n",
       "</div>"
      ],
      "text/plain": [
       "     userid     itemid  rating     Time Location Companion\n",
       "148    1003  tt0454876       1  Weekday   Cinema     Alone\n",
       "149    1003  tt0120912       1  Weekday   Cinema     Alone\n",
       "150    1003  tt3793764       1  Weekday   Cinema     Alone\n",
       "151    1003  tt0114148       1  Weekday   Cinema     Alone\n",
       "152    1003  tt0110357       1  Weekday   Cinema     Alone"
      ]
     },
     "execution_count": 7,
     "metadata": {},
     "output_type": "execute_result"
    }
   ],
   "source": [
    "df_movie.head()"
   ]
  },
  {
   "cell_type": "code",
   "execution_count": 8,
   "metadata": {},
   "outputs": [],
   "source": [
    "df_movie['item'] = df_movie.itemid.str.extract('(\\d+)')"
   ]
  },
  {
   "cell_type": "code",
   "execution_count": null,
   "metadata": {},
   "outputs": [],
   "source": []
  },
  {
   "cell_type": "code",
   "execution_count": 9,
   "metadata": {},
   "outputs": [],
   "source": [
    "del df_movie['itemid']\n",
    "df_movie = df_movie[['userid','item','rating','Time','Location','Companion']]\n",
    "context = df_movie.copy()\n",
    "context['item'] = context['item'].astype('int')\n",
    "context.iloc[:,3:] = context.iloc[:,3:].astype('object')\n"
   ]
  },
  {
   "cell_type": "code",
   "execution_count": 10,
   "metadata": {},
   "outputs": [
    {
     "data": {
      "text/html": [
       "<div>\n",
       "<style scoped>\n",
       "    .dataframe tbody tr th:only-of-type {\n",
       "        vertical-align: middle;\n",
       "    }\n",
       "\n",
       "    .dataframe tbody tr th {\n",
       "        vertical-align: top;\n",
       "    }\n",
       "\n",
       "    .dataframe thead th {\n",
       "        text-align: right;\n",
       "    }\n",
       "</style>\n",
       "<table border=\"1\" class=\"dataframe\">\n",
       "  <thead>\n",
       "    <tr style=\"text-align: right;\">\n",
       "      <th></th>\n",
       "      <th>userid</th>\n",
       "      <th>item</th>\n",
       "      <th>rating</th>\n",
       "      <th>Time</th>\n",
       "      <th>Location</th>\n",
       "      <th>Companion</th>\n",
       "    </tr>\n",
       "  </thead>\n",
       "  <tbody>\n",
       "    <tr>\n",
       "      <th>148</th>\n",
       "      <td>1003</td>\n",
       "      <td>454876</td>\n",
       "      <td>1</td>\n",
       "      <td>Weekday</td>\n",
       "      <td>Cinema</td>\n",
       "      <td>Alone</td>\n",
       "    </tr>\n",
       "    <tr>\n",
       "      <th>149</th>\n",
       "      <td>1003</td>\n",
       "      <td>120912</td>\n",
       "      <td>1</td>\n",
       "      <td>Weekday</td>\n",
       "      <td>Cinema</td>\n",
       "      <td>Alone</td>\n",
       "    </tr>\n",
       "    <tr>\n",
       "      <th>150</th>\n",
       "      <td>1003</td>\n",
       "      <td>3793764</td>\n",
       "      <td>1</td>\n",
       "      <td>Weekday</td>\n",
       "      <td>Cinema</td>\n",
       "      <td>Alone</td>\n",
       "    </tr>\n",
       "    <tr>\n",
       "      <th>151</th>\n",
       "      <td>1003</td>\n",
       "      <td>114148</td>\n",
       "      <td>1</td>\n",
       "      <td>Weekday</td>\n",
       "      <td>Cinema</td>\n",
       "      <td>Alone</td>\n",
       "    </tr>\n",
       "    <tr>\n",
       "      <th>152</th>\n",
       "      <td>1003</td>\n",
       "      <td>110357</td>\n",
       "      <td>1</td>\n",
       "      <td>Weekday</td>\n",
       "      <td>Cinema</td>\n",
       "      <td>Alone</td>\n",
       "    </tr>\n",
       "  </tbody>\n",
       "</table>\n",
       "</div>"
      ],
      "text/plain": [
       "     userid     item  rating     Time Location Companion\n",
       "148    1003   454876       1  Weekday   Cinema     Alone\n",
       "149    1003   120912       1  Weekday   Cinema     Alone\n",
       "150    1003  3793764       1  Weekday   Cinema     Alone\n",
       "151    1003   114148       1  Weekday   Cinema     Alone\n",
       "152    1003   110357       1  Weekday   Cinema     Alone"
      ]
     },
     "execution_count": 10,
     "metadata": {},
     "output_type": "execute_result"
    }
   ],
   "source": [
    "context.head()"
   ]
  },
  {
   "cell_type": "code",
   "execution_count": 11,
   "metadata": {},
   "outputs": [
    {
     "data": {
      "text/plain": [
       "(Weekend    1845\n",
       " Weekday    1750\n",
       " Name: Time, dtype: int64,\n",
       " Cinema    1963\n",
       " Home      1632\n",
       " Name: Location, dtype: int64,\n",
       " Family     1343\n",
       " Alone      1173\n",
       " Partner    1079\n",
       " Name: Companion, dtype: int64)"
      ]
     },
     "execution_count": 11,
     "metadata": {},
     "output_type": "execute_result"
    }
   ],
   "source": [
    "context['Time'].value_counts(),context['Location'].value_counts(),context['Companion'].value_counts()"
   ]
  },
  {
   "cell_type": "code",
   "execution_count": 12,
   "metadata": {},
   "outputs": [],
   "source": [
    "Time = {'Weekend':1,'Weekday':2}\n",
    "Location = {'Cinema':1,\n",
    "           'Home':2\n",
    "           }\n",
    "Companion = {'Family':1,\n",
    "            'Alone':2,\n",
    "            'Partner':3}\n"
   ]
  },
  {
   "cell_type": "code",
   "execution_count": 13,
   "metadata": {},
   "outputs": [],
   "source": [
    "context['Time'] = context['Time'].map(Time)\n",
    "context['Location'] = context['Location'].map(Location)\n",
    "context['Companion'] = context['Companion'].map(Companion)\n",
    "context_explain = context.copy()"
   ]
  },
  {
   "cell_type": "code",
   "execution_count": 14,
   "metadata": {},
   "outputs": [],
   "source": [
    "context_explain = context_explain.rename(columns={'userid':'userID','item':'itemID'})"
   ]
  },
  {
   "cell_type": "code",
   "execution_count": 15,
   "metadata": {},
   "outputs": [],
   "source": [
    "context_explain = context_explain.astype('float')\n",
    "context_explain.iloc[:,3:] = context_explain.iloc[:,3:].astype('object')\n",
    "context_test_user = pd.get_dummies(context_explain)\n"
   ]
  },
  {
   "cell_type": "code",
   "execution_count": null,
   "metadata": {},
   "outputs": [],
   "source": []
  },
  {
   "cell_type": "code",
   "execution_count": 16,
   "metadata": {},
   "outputs": [
    {
     "name": "stderr",
     "output_type": "stream",
     "text": [
      "/home/jinfeng/anaconda3/lib/python3.8/site-packages/numpy/lib/function_base.py:2559: RuntimeWarning: invalid value encountered in true_divide\n",
      "  c /= stddev[:, None]\n",
      "/home/jinfeng/anaconda3/lib/python3.8/site-packages/numpy/lib/function_base.py:2560: RuntimeWarning: invalid value encountered in true_divide\n",
      "  c /= stddev[None, :]\n"
     ]
    }
   ],
   "source": [
    "def calculate_correlation(context):\n",
    "    user_context_correlation = dict()\n",
    "    context_user_correlation = dict()\n",
    "    item_context_correlation = dict()\n",
    "    context_item_correlation = dict()\n",
    "    \n",
    "    context_test_user = context.copy()\n",
    "\n",
    "    cluster_set = list(set(context_test_user['userID'].values))\n",
    "    for cluster in cluster_set:\n",
    "        user_context_correlation.setdefault(cluster, defaultdict())\n",
    "        test = context_test_user[context_test_user['userID'] == cluster]\n",
    "        for context_factor in test.columns[3:]:\n",
    "            X = np.vstack([test['rating'].values, test[context_factor].values])\n",
    "            d2 = np.corrcoef(X)[0][1]\n",
    "            user_context_correlation[cluster][context_factor] = d2\n",
    "\n",
    "    for context_factor in context_test_user.columns[3:]:\n",
    "        context_user_correlation.setdefault(context_factor, defaultdict())\n",
    "        for cluster in cluster_set:\n",
    "            test = context_test_user[context_test_user['userID'] == cluster]\n",
    "            X = np.vstack([test['rating'].values, test[context_factor].values])\n",
    "            d2 = np.corrcoef(X)[0][1]\n",
    "            context_user_correlation[context_factor][cluster] = d2\n",
    "\n",
    "    cluster_item = list(set(context_test_user['itemID'].values))\n",
    "    for cluster in cluster_item:\n",
    "        item_context_correlation.setdefault(cluster, defaultdict())\n",
    "        test = context_test_user[context_test_user['itemID'] == cluster]\n",
    "        for context_factor in test.columns[3:]:\n",
    "            X = np.vstack([test['rating'].values, test[context_factor].values])\n",
    "            d2 = np.corrcoef(X)[0][1]\n",
    "            item_context_correlation[cluster][context_factor] = d2\n",
    "\n",
    "    for context_factor in context_test_user.columns[3:]:\n",
    "        context_item_correlation.setdefault(context_factor, defaultdict())\n",
    "        for cluster in cluster_item:\n",
    "            test = context_test_user[context_test_user['itemID'] == cluster]\n",
    "            X = np.vstack([test['rating'].values, test[context_factor].values])\n",
    "            d2 = np.corrcoef(X)[0][1]\n",
    "            context_item_correlation[context_factor][cluster] = d2\n",
    "\n",
    "    \n",
    "    return user_context_correlation, context_user_correlation, item_context_correlation, context_item_correlation\n",
    "user_context_correlation, context_user_correlation, item_context_correlation, context_item_correlation = calculate_correlation(context_test_user)"
   ]
  },
  {
   "cell_type": "code",
   "execution_count": 17,
   "metadata": {},
   "outputs": [],
   "source": [
    "def cosine_similarity(x,y):\n",
    "    x = np.array(x)\n",
    "    y = np.array(y)\n",
    "    where1 = np.isnan(x)\n",
    "    x[where1] = 0.00001\n",
    "    where2 = np.isnan(y)\n",
    "    y[where2] = 0.00001\n",
    "    num = x.dot(y.T)\n",
    "    denom = np.linalg.norm(x) * np.linalg.norm(y)\n",
    "    return num / denom\n",
    "def cal_similarity_context(x,tg):\n",
    "    x['sim_context'] = None\n",
    "    for j in x.index:\n",
    "        x['sim_context'][j] = cosine_similarity(x['context_vector'][tg],x['context_vector'][j])\n",
    "    return x\n",
    "def select_local(train_data,i):\n",
    "    df = train_data.copy()\n",
    "    context_test_rec = cal_similarity_context(df,i)\n",
    "    local = context_test_rec[context_test_rec['sim_context'] > 0.5]\n",
    "    media = local.copy()\n",
    "    localt = media.drop(index=[i])\n",
    "    return localt,local\n",
    "def model_train_for_rec(train_data,i):\n",
    "    localt,local = select_local(train_data,i)\n",
    "    reader = Reader(rating_scale=(1, 5))\n",
    "    data = Dataset.load_from_df(localt[['userID', 'itemID', 'rating']], reader)\n",
    "    param_grid = {'n_factors': [25, 30, 35, 40],'n_epochs': [5, 10], 'lr_all': [0.002, 0.005],\n",
    "              'reg_all': [0.4, 0.6]}\n",
    "    gs = GridSearchCV(SVD, param_grid, measures=['rmse', 'mae'], cv=3)\n",
    "    gs.fit(data)\n",
    "    algo = gs.best_estimator['rmse']\n",
    "    algo.fit(data.build_full_trainset())\n",
    "    return algo,localt,local"
   ]
  },
  {
   "cell_type": "code",
   "execution_count": 65,
   "metadata": {},
   "outputs": [
    {
     "name": "stderr",
     "output_type": "stream",
     "text": [
      "\n",
      "A value is trying to be set on a copy of a slice from a DataFrame\n",
      "\n",
      "See the caveats in the documentation: https://pandas.pydata.org/pandas-docs/stable/user_guide/indexing.html#returning-a-view-versus-a-copy\n"
     ]
    }
   ],
   "source": [
    "test_try = context_explain.copy()\n",
    "test_try.iloc[:,3:] = test_try.iloc[:,3:].astype('object')\n",
    "test_try = pd.get_dummies(test_try)\n",
    "test_try['context_vector'] = None\n",
    "\n",
    "for i in test_try.index:\n",
    "    cluster = test_try['userID'][i]\n",
    "    test_try['context_vector'][i] = []\n",
    "    for c in test_try.columns[3:]:\n",
    "        if test_try[c][i] == 1:\n",
    "            test_try['context_vector'][i].append(user_context_correlation[cluster][c])\n"
   ]
  },
  {
   "cell_type": "code",
   "execution_count": 28,
   "metadata": {},
   "outputs": [],
   "source": [
    "usadata_rec = [1082,18,0]\n",
    "context_info = [1,2,3]\n",
    "context_info = np.reshape(context_info, (1, len(context_info)))\n",
    "\n",
    "usadata_rec_all = [1082,18,1,2,3]\n",
    "usadata_rec_all = np.reshape(usadata_rec_all, (1, len(usadata_rec_all)))\n",
    "#context_info = np.reshape(context_info, (1, len(context_info)))"
   ]
  },
  {
   "cell_type": "code",
   "execution_count": 29,
   "metadata": {},
   "outputs": [],
   "source": [
    "def recommend_all(x):\n",
    "  res = []\n",
    "  for items in x:\n",
    "    items  = np.insert(items,2,1) \n",
    "    usadata = items\n",
    "    context = context_explain.copy()\n",
    "\n",
    "    context.loc[-1] = usadata\n",
    "    context.iloc[:,3:] = context.iloc[:,3:].astype('object')\n",
    "    context = pd.get_dummies(context)\n",
    "    context['context_vector'] = None\n",
    "    cluster = context['userID'][-1]\n",
    "    context['context_vector'][-1] = []\n",
    "    for c in context.columns[3:]:\n",
    "        if context[c][-1] == 1:\n",
    "            context['context_vector'][-1].append(user_context_correlation[cluster][c])\n",
    "    rec_mid = test_try.copy()\n",
    "    rec_mid.loc[-1] = context.iloc[-1].values\n",
    "    algo,localt,local = model_train_for_rec(rec_mid,-1)\n",
    "    rec = algo.predict(usadata[0], usadata[1])\n",
    "    rec = rec.est\n",
    "    res.append(rec)\n",
    "  return np.array(res)\n",
    "  "
   ]
  },
  {
   "cell_type": "code",
   "execution_count": 30,
   "metadata": {},
   "outputs": [
    {
     "name": "stderr",
     "output_type": "stream",
     "text": [
      "<ipython-input-29-17176cf7fc06>:13: SettingWithCopyWarning: \n",
      "A value is trying to be set on a copy of a slice from a DataFrame\n",
      "\n",
      "See the caveats in the documentation: https://pandas.pydata.org/pandas-docs/stable/user_guide/indexing.html#returning-a-view-versus-a-copy\n",
      "  context['context_vector'][-1] = []\n",
      "<ipython-input-17-f7da5bf99a52>:14: SettingWithCopyWarning: \n",
      "A value is trying to be set on a copy of a slice from a DataFrame\n",
      "\n",
      "See the caveats in the documentation: https://pandas.pydata.org/pandas-docs/stable/user_guide/indexing.html#returning-a-view-versus-a-copy\n",
      "  x['sim_context'][j] = cosine_similarity(x['context_vector'][tg],x['context_vector'][j])\n"
     ]
    },
    {
     "data": {
      "text/plain": [
       "array([3.14986944])"
      ]
     },
     "execution_count": 30,
     "metadata": {},
     "output_type": "execute_result"
    }
   ],
   "source": [
    "recommend_all(usadata_rec_all)"
   ]
  },
  {
   "cell_type": "code",
   "execution_count": 32,
   "metadata": {},
   "outputs": [],
   "source": [
    "def ty(x):\n",
    "  res = []\n",
    "  for items in x:\n",
    "    usadata = usadata_rec.copy()\n",
    "    context = context_explain.copy()\n",
    "    for item in items:\n",
    "      usadata.append(item)\n",
    "    context.loc[-1] = usadata\n",
    "    context.iloc[:,3:] = context.iloc[:,3:].astype('object')\n",
    "    context = pd.get_dummies(context)\n",
    "    context['context_vector'] = None\n",
    "    cluster = context['userID'][-1]\n",
    "    context['context_vector'][-1] = []\n",
    "    for c in context.columns[3:]:\n",
    "        if context[c][-1] == 1:\n",
    "            context['context_vector'][-1].append(user_context_correlation[cluster][c])\n",
    "    rec_mid = test_try.copy()\n",
    "    rec_mid.loc[-1] = context.iloc[-1].values\n",
    "    algo,localt,local = model_train_for_rec(rec_mid,-1)\n",
    "    rec = algo.predict(usadata[0], usadata[1])\n",
    "    rec = rec.est\n",
    "    res.append(rec)\n",
    "  return np.array(res)\n",
    "  "
   ]
  },
  {
   "cell_type": "code",
   "execution_count": 33,
   "metadata": {},
   "outputs": [
    {
     "name": "stderr",
     "output_type": "stream",
     "text": [
      "<ipython-input-32-78b21de2d2b0>:13: SettingWithCopyWarning: \n",
      "A value is trying to be set on a copy of a slice from a DataFrame\n",
      "\n",
      "See the caveats in the documentation: https://pandas.pydata.org/pandas-docs/stable/user_guide/indexing.html#returning-a-view-versus-a-copy\n",
      "  context['context_vector'][-1] = []\n",
      "<ipython-input-17-f7da5bf99a52>:14: SettingWithCopyWarning: \n",
      "A value is trying to be set on a copy of a slice from a DataFrame\n",
      "\n",
      "See the caveats in the documentation: https://pandas.pydata.org/pandas-docs/stable/user_guide/indexing.html#returning-a-view-versus-a-copy\n",
      "  x['sim_context'][j] = cosine_similarity(x['context_vector'][tg],x['context_vector'][j])\n"
     ]
    },
    {
     "data": {
      "text/plain": [
       "array([3.1507233])"
      ]
     },
     "execution_count": 33,
     "metadata": {},
     "output_type": "execute_result"
    }
   ],
   "source": [
    "ty(context_info)"
   ]
  },
  {
   "cell_type": "code",
   "execution_count": 34,
   "metadata": {},
   "outputs": [
    {
     "data": {
      "text/plain": [
       "(1, 3)"
      ]
     },
     "execution_count": 34,
     "metadata": {},
     "output_type": "execute_result"
    }
   ],
   "source": [
    "train = context_explain.iloc[:,3:]\n",
    "summary = train.median().values.reshape((1,train.shape[1]))\n",
    "summary.shape\n",
    "#summary = shap.kmeans(train, 10)"
   ]
  },
  {
   "cell_type": "code",
   "execution_count": 36,
   "metadata": {},
   "outputs": [
    {
     "data": {
      "text/html": [
       "<div>\n",
       "<style scoped>\n",
       "    .dataframe tbody tr th:only-of-type {\n",
       "        vertical-align: middle;\n",
       "    }\n",
       "\n",
       "    .dataframe tbody tr th {\n",
       "        vertical-align: top;\n",
       "    }\n",
       "\n",
       "    .dataframe thead th {\n",
       "        text-align: right;\n",
       "    }\n",
       "</style>\n",
       "<table border=\"1\" class=\"dataframe\">\n",
       "  <thead>\n",
       "    <tr style=\"text-align: right;\">\n",
       "      <th></th>\n",
       "      <th>userID</th>\n",
       "      <th>itemID</th>\n",
       "      <th>rating</th>\n",
       "      <th>Time</th>\n",
       "      <th>Location</th>\n",
       "      <th>Companion</th>\n",
       "    </tr>\n",
       "  </thead>\n",
       "  <tbody>\n",
       "    <tr>\n",
       "      <th>148</th>\n",
       "      <td>1003.0</td>\n",
       "      <td>454876.0</td>\n",
       "      <td>1.0</td>\n",
       "      <td>2</td>\n",
       "      <td>1</td>\n",
       "      <td>2</td>\n",
       "    </tr>\n",
       "    <tr>\n",
       "      <th>149</th>\n",
       "      <td>1003.0</td>\n",
       "      <td>120912.0</td>\n",
       "      <td>1.0</td>\n",
       "      <td>2</td>\n",
       "      <td>1</td>\n",
       "      <td>2</td>\n",
       "    </tr>\n",
       "    <tr>\n",
       "      <th>150</th>\n",
       "      <td>1003.0</td>\n",
       "      <td>3793764.0</td>\n",
       "      <td>1.0</td>\n",
       "      <td>2</td>\n",
       "      <td>1</td>\n",
       "      <td>2</td>\n",
       "    </tr>\n",
       "    <tr>\n",
       "      <th>151</th>\n",
       "      <td>1003.0</td>\n",
       "      <td>114148.0</td>\n",
       "      <td>1.0</td>\n",
       "      <td>2</td>\n",
       "      <td>1</td>\n",
       "      <td>2</td>\n",
       "    </tr>\n",
       "    <tr>\n",
       "      <th>152</th>\n",
       "      <td>1003.0</td>\n",
       "      <td>110357.0</td>\n",
       "      <td>1.0</td>\n",
       "      <td>2</td>\n",
       "      <td>1</td>\n",
       "      <td>2</td>\n",
       "    </tr>\n",
       "    <tr>\n",
       "      <th>...</th>\n",
       "      <td>...</td>\n",
       "      <td>...</td>\n",
       "      <td>...</td>\n",
       "      <td>...</td>\n",
       "      <td>...</td>\n",
       "      <td>...</td>\n",
       "    </tr>\n",
       "    <tr>\n",
       "      <th>5038</th>\n",
       "      <td>1082.0</td>\n",
       "      <td>413267.0</td>\n",
       "      <td>1.0</td>\n",
       "      <td>1</td>\n",
       "      <td>2</td>\n",
       "      <td>3</td>\n",
       "    </tr>\n",
       "    <tr>\n",
       "      <th>5039</th>\n",
       "      <td>1082.0</td>\n",
       "      <td>1637706.0</td>\n",
       "      <td>2.0</td>\n",
       "      <td>1</td>\n",
       "      <td>2</td>\n",
       "      <td>3</td>\n",
       "    </tr>\n",
       "    <tr>\n",
       "      <th>5040</th>\n",
       "      <td>1082.0</td>\n",
       "      <td>343660.0</td>\n",
       "      <td>1.0</td>\n",
       "      <td>1</td>\n",
       "      <td>2</td>\n",
       "      <td>3</td>\n",
       "    </tr>\n",
       "    <tr>\n",
       "      <th>5041</th>\n",
       "      <td>1082.0</td>\n",
       "      <td>1133985.0</td>\n",
       "      <td>1.0</td>\n",
       "      <td>1</td>\n",
       "      <td>2</td>\n",
       "      <td>3</td>\n",
       "    </tr>\n",
       "    <tr>\n",
       "      <th>5042</th>\n",
       "      <td>1082.0</td>\n",
       "      <td>1099212.0</td>\n",
       "      <td>1.0</td>\n",
       "      <td>1</td>\n",
       "      <td>2</td>\n",
       "      <td>3</td>\n",
       "    </tr>\n",
       "  </tbody>\n",
       "</table>\n",
       "<p>3595 rows × 6 columns</p>\n",
       "</div>"
      ],
      "text/plain": [
       "      userID     itemID  rating Time Location Companion\n",
       "148   1003.0   454876.0     1.0    2        1         2\n",
       "149   1003.0   120912.0     1.0    2        1         2\n",
       "150   1003.0  3793764.0     1.0    2        1         2\n",
       "151   1003.0   114148.0     1.0    2        1         2\n",
       "152   1003.0   110357.0     1.0    2        1         2\n",
       "...      ...        ...     ...  ...      ...       ...\n",
       "5038  1082.0   413267.0     1.0    1        2         3\n",
       "5039  1082.0  1637706.0     2.0    1        2         3\n",
       "5040  1082.0   343660.0     1.0    1        2         3\n",
       "5041  1082.0  1133985.0     1.0    1        2         3\n",
       "5042  1082.0  1099212.0     1.0    1        2         3\n",
       "\n",
       "[3595 rows x 6 columns]"
      ]
     },
     "execution_count": 36,
     "metadata": {},
     "output_type": "execute_result"
    }
   ],
   "source": [
    "context_explain"
   ]
  },
  {
   "cell_type": "code",
   "execution_count": 40,
   "metadata": {},
   "outputs": [
    {
     "data": {
      "text/plain": [
       "(1, 5)"
      ]
     },
     "execution_count": 40,
     "metadata": {},
     "output_type": "execute_result"
    }
   ],
   "source": [
    "summary_all = context_explain[['userID','itemID','Time','Location','Companion']]\n",
    "summary_all = summary_all.astype('object')\n",
    "\n",
    "summary_all_a = summary_all.median().values.reshape((1,summary_all.shape[1]))\n",
    "#summary_all_a = shap.kmeans(summary_all,10)\n",
    "\n",
    "summary_all_a.shape\n",
    "#summary = shap.kmeans(train, 10)"
   ]
  },
  {
   "cell_type": "code",
   "execution_count": null,
   "metadata": {},
   "outputs": [],
   "source": [
    "import shap\n",
    "#summary_all_a = summary_all.median().values.reshape((1,summary_all.shape[1]))\n",
    "explainer1 = shap.KernelExplainer(recommend_all, summary_all_a)\n",
    "shap_values1 = explainer1.shap_values(summary_all)\n",
    "np.savetxt('haha_all_new.txt',shap_values1)\n",
    "shap.initjs()\n",
    "shap.force_plot(explainer1.expected_value, shap_values1, summary_all)\n",
    "print(explainer1.expected_value)"
   ]
  },
  {
   "cell_type": "code",
   "execution_count": null,
   "metadata": {},
   "outputs": [],
   "source": [
    "recommend_all(summary_all_a)"
   ]
  },
  {
   "cell_type": "code",
   "execution_count": null,
   "metadata": {},
   "outputs": [],
   "source": [
    "summary = train.median().values.reshape((1,train.shape[1]))\n",
    "explainer = shap.KernelExplainer(ty, summary)\n",
    "shap_values = explainer.shap_values(train)\n",
    "np.savetxt('haha_new.txt',shap_values)\n",
    "shap.initjs()\n",
    "shap.force_plot(explainer.expected_value, shap_values, train)"
   ]
  },
  {
   "cell_type": "code",
   "execution_count": null,
   "metadata": {},
   "outputs": [],
   "source": [
    "summary = shap.kmeans(train, 10)\n",
    "summary_all_a = shap.kmeans(summary_all,10)"
   ]
  },
  {
   "cell_type": "code",
   "execution_count": null,
   "metadata": {},
   "outputs": [],
   "source": [
    "import shap\n",
    "#summary_all_a = summary_all.median().values.reshape((1,summary_all.shape[1]))\n",
    "explainer1 = shap.KernelExplainer(recommend_all, summary_all_a)\n",
    "shap_values1 = explainer1.shap_values(summary_all)\n",
    "np.savetxt('haha_all_new_kmeans.txt',shap_values1)\n",
    "shap.initjs()\n",
    "shap.force_plot(explainer1.expected_value, shap_values1, summary_all)\n",
    "print(explainer1.expected_value)"
   ]
  },
  {
   "cell_type": "code",
   "execution_count": null,
   "metadata": {},
   "outputs": [],
   "source": [
    "summary = train.median().values.reshape((1,train.shape[1]))\n",
    "explainer = shap.KernelExplainer(ty, summary)\n",
    "shap_values = explainer.shap_values(train)\n",
    "np.savetxt('haha_new_kmeans.txt',shap_values)\n",
    "shap.initjs()\n",
    "shap.force_plot(explainer.expected_value, shap_values, train)"
   ]
  },
  {
   "cell_type": "code",
   "execution_count": 49,
   "metadata": {},
   "outputs": [
    {
     "data": {
      "text/html": [
       "<div>\n",
       "<style scoped>\n",
       "    .dataframe tbody tr th:only-of-type {\n",
       "        vertical-align: middle;\n",
       "    }\n",
       "\n",
       "    .dataframe tbody tr th {\n",
       "        vertical-align: top;\n",
       "    }\n",
       "\n",
       "    .dataframe thead th {\n",
       "        text-align: right;\n",
       "    }\n",
       "</style>\n",
       "<table border=\"1\" class=\"dataframe\">\n",
       "  <thead>\n",
       "    <tr style=\"text-align: right;\">\n",
       "      <th></th>\n",
       "      <th>userID</th>\n",
       "      <th>itemID</th>\n",
       "      <th>Time</th>\n",
       "      <th>Location</th>\n",
       "      <th>Companion</th>\n",
       "    </tr>\n",
       "  </thead>\n",
       "  <tbody>\n",
       "    <tr>\n",
       "      <th>148</th>\n",
       "      <td>1003</td>\n",
       "      <td>454876</td>\n",
       "      <td>2</td>\n",
       "      <td>1</td>\n",
       "      <td>2</td>\n",
       "    </tr>\n",
       "    <tr>\n",
       "      <th>149</th>\n",
       "      <td>1003</td>\n",
       "      <td>120912</td>\n",
       "      <td>2</td>\n",
       "      <td>1</td>\n",
       "      <td>2</td>\n",
       "    </tr>\n",
       "    <tr>\n",
       "      <th>150</th>\n",
       "      <td>1003</td>\n",
       "      <td>3.79376e+06</td>\n",
       "      <td>2</td>\n",
       "      <td>1</td>\n",
       "      <td>2</td>\n",
       "    </tr>\n",
       "    <tr>\n",
       "      <th>151</th>\n",
       "      <td>1003</td>\n",
       "      <td>114148</td>\n",
       "      <td>2</td>\n",
       "      <td>1</td>\n",
       "      <td>2</td>\n",
       "    </tr>\n",
       "    <tr>\n",
       "      <th>152</th>\n",
       "      <td>1003</td>\n",
       "      <td>110357</td>\n",
       "      <td>2</td>\n",
       "      <td>1</td>\n",
       "      <td>2</td>\n",
       "    </tr>\n",
       "    <tr>\n",
       "      <th>...</th>\n",
       "      <td>...</td>\n",
       "      <td>...</td>\n",
       "      <td>...</td>\n",
       "      <td>...</td>\n",
       "      <td>...</td>\n",
       "    </tr>\n",
       "    <tr>\n",
       "      <th>5038</th>\n",
       "      <td>1082</td>\n",
       "      <td>413267</td>\n",
       "      <td>1</td>\n",
       "      <td>2</td>\n",
       "      <td>3</td>\n",
       "    </tr>\n",
       "    <tr>\n",
       "      <th>5039</th>\n",
       "      <td>1082</td>\n",
       "      <td>1.63771e+06</td>\n",
       "      <td>1</td>\n",
       "      <td>2</td>\n",
       "      <td>3</td>\n",
       "    </tr>\n",
       "    <tr>\n",
       "      <th>5040</th>\n",
       "      <td>1082</td>\n",
       "      <td>343660</td>\n",
       "      <td>1</td>\n",
       "      <td>2</td>\n",
       "      <td>3</td>\n",
       "    </tr>\n",
       "    <tr>\n",
       "      <th>5041</th>\n",
       "      <td>1082</td>\n",
       "      <td>1.13398e+06</td>\n",
       "      <td>1</td>\n",
       "      <td>2</td>\n",
       "      <td>3</td>\n",
       "    </tr>\n",
       "    <tr>\n",
       "      <th>5042</th>\n",
       "      <td>1082</td>\n",
       "      <td>1.09921e+06</td>\n",
       "      <td>1</td>\n",
       "      <td>2</td>\n",
       "      <td>3</td>\n",
       "    </tr>\n",
       "  </tbody>\n",
       "</table>\n",
       "<p>3595 rows × 5 columns</p>\n",
       "</div>"
      ],
      "text/plain": [
       "     userID       itemID Time Location Companion\n",
       "148    1003       454876    2        1         2\n",
       "149    1003       120912    2        1         2\n",
       "150    1003  3.79376e+06    2        1         2\n",
       "151    1003       114148    2        1         2\n",
       "152    1003       110357    2        1         2\n",
       "...     ...          ...  ...      ...       ...\n",
       "5038   1082       413267    1        2         3\n",
       "5039   1082  1.63771e+06    1        2         3\n",
       "5040   1082       343660    1        2         3\n",
       "5041   1082  1.13398e+06    1        2         3\n",
       "5042   1082  1.09921e+06    1        2         3\n",
       "\n",
       "[3595 rows x 5 columns]"
      ]
     },
     "execution_count": 49,
     "metadata": {},
     "output_type": "execute_result"
    }
   ],
   "source": [
    "summary_all"
   ]
  },
  {
   "cell_type": "code",
   "execution_count": 56,
   "metadata": {},
   "outputs": [
    {
     "name": "stderr",
     "output_type": "stream",
     "text": [
      "\n",
      "A value is trying to be set on a copy of a slice from a DataFrame\n",
      "\n",
      "See the caveats in the documentation: https://pandas.pydata.org/pandas-docs/stable/user_guide/indexing.html#returning-a-view-versus-a-copy\n",
      "\n",
      "A value is trying to be set on a copy of a slice from a DataFrame\n",
      "\n",
      "See the caveats in the documentation: https://pandas.pydata.org/pandas-docs/stable/user_guide/indexing.html#returning-a-view-versus-a-copy\n"
     ]
    },
    {
     "name": "stdout",
     "output_type": "stream",
     "text": [
      "Intercept 3.0499265789257053\n",
      "Prediction_local [2.75578094]\n",
      "Right: 2.4489628400229932\n"
     ]
    },
    {
     "data": {
      "image/png": "[encoded data removed]",
      "text/plain": [
       "<Figure size 432x288 with 1 Axes>"
      ]
     },
     "execution_count": 56,
     "metadata": {},
     "output_type": "execute_result"
    },
    {
     "data": {
      "image/png": "[encoded data removed]",
      "text/plain": [
       "<Figure size 432x288 with 1 Axes>"
      ]
     },
     "metadata": {
      "needs_background": "light"
     },
     "output_type": "display_data"
    }
   ],
   "source": [
    "# summary_all = summary_all.copy()\n",
    "# summary_all['target'] = recommend_all(summary_all.values)\n",
    "\n",
    "import lime\n",
    "import lime.lime_tabular\n",
    "\n",
    "explainer = lime.lime_tabular.LimeTabularExplainer(summary_all.values,\n",
    "                    feature_names = summary_all.columns, \n",
    "                    categorical_features= [0,1,2,3,4],                              \n",
    "                    verbose=True, mode='regression')\n",
    "exp = explainer.explain_instance(summary_all.iloc[2], \n",
    "     recommend_all, num_features=5,num_samples=100)\n",
    "exp.as_pyplot_figure()"
   ]
  },
  {
   "cell_type": "code",
   "execution_count": 57,
   "metadata": {},
   "outputs": [
    {
     "name": "stderr",
     "output_type": "stream",
     "text": [
      "\n",
      "A value is trying to be set on a copy of a slice from a DataFrame\n",
      "\n",
      "See the caveats in the documentation: https://pandas.pydata.org/pandas-docs/stable/user_guide/indexing.html#returning-a-view-versus-a-copy\n",
      "\n",
      "A value is trying to be set on a copy of a slice from a DataFrame\n",
      "\n",
      "See the caveats in the documentation: https://pandas.pydata.org/pandas-docs/stable/user_guide/indexing.html#returning-a-view-versus-a-copy\n"
     ]
    },
    {
     "name": "stdout",
     "output_type": "stream",
     "text": [
      "Intercept 2.8116805195077412\n",
      "Prediction_local [3.6767616]\n",
      "Right: 4.091952674296233\n",
      "Figure(432x288)\n",
      "105.44000434875488\n"
     ]
    },
    {
     "data": {
      "image/png": "[encoded data removed]",
      "text/plain": [
       "<Figure size 432x288 with 1 Axes>"
      ]
     },
     "metadata": {
      "needs_background": "light"
     },
     "output_type": "display_data"
    }
   ],
   "source": [
    "import time\n",
    "import lime\n",
    "import lime.lime_tabular\n",
    "train = train.astype('object')\n",
    "\n",
    "explainer = lime.lime_tabular.LimeTabularExplainer(train.values,\n",
    "                                                   feature_names=['Time', 'Location', 'Companion'],\n",
    "                                                   class_names=['price'], \n",
    "                                                   categorical_features=[0,1,2], \n",
    "                                                   verbose=True, mode='regression')\n",
    "t1 = time.time()\n",
    "exp = explainer.explain_instance(train.iloc[2], \n",
    "     ty,num_features=3,num_samples=100)\n",
    "print(exp.as_pyplot_figure())\n",
    "t2 = time.time()\n",
    "print(t2-t1)"
   ]
  },
  {
   "cell_type": "code",
   "execution_count": 53,
   "metadata": {},
   "outputs": [
    {
     "name": "stderr",
     "output_type": "stream",
     "text": [
      "\n",
      "A value is trying to be set on a copy of a slice from a DataFrame\n",
      "\n",
      "See the caveats in the documentation: https://pandas.pydata.org/pandas-docs/stable/user_guide/indexing.html#returning-a-view-versus-a-copy\n",
      "\n",
      "A value is trying to be set on a copy of a slice from a DataFrame\n",
      "\n",
      "See the caveats in the documentation: https://pandas.pydata.org/pandas-docs/stable/user_guide/indexing.html#returning-a-view-versus-a-copy\n"
     ]
    },
    {
     "name": "stdout",
     "output_type": "stream",
     "text": [
      "1.1242270469665527\n"
     ]
    }
   ],
   "source": [
    "t1 = time.time()\n",
    "ty(context_info)\n",
    "t2 = time.time()\n",
    "print(t2-t1)"
   ]
  },
  {
   "cell_type": "code",
   "execution_count": 54,
   "metadata": {},
   "outputs": [
    {
     "data": {
      "text/html": [
       "<div>\n",
       "<style scoped>\n",
       "    .dataframe tbody tr th:only-of-type {\n",
       "        vertical-align: middle;\n",
       "    }\n",
       "\n",
       "    .dataframe tbody tr th {\n",
       "        vertical-align: top;\n",
       "    }\n",
       "\n",
       "    .dataframe thead th {\n",
       "        text-align: right;\n",
       "    }\n",
       "</style>\n",
       "<table border=\"1\" class=\"dataframe\">\n",
       "  <thead>\n",
       "    <tr style=\"text-align: right;\">\n",
       "      <th></th>\n",
       "      <th>userID</th>\n",
       "      <th>itemID</th>\n",
       "      <th>Time</th>\n",
       "      <th>Location</th>\n",
       "      <th>Companion</th>\n",
       "    </tr>\n",
       "  </thead>\n",
       "  <tbody>\n",
       "    <tr>\n",
       "      <th>148</th>\n",
       "      <td>1003</td>\n",
       "      <td>454876</td>\n",
       "      <td>2</td>\n",
       "      <td>1</td>\n",
       "      <td>2</td>\n",
       "    </tr>\n",
       "    <tr>\n",
       "      <th>149</th>\n",
       "      <td>1003</td>\n",
       "      <td>120912</td>\n",
       "      <td>2</td>\n",
       "      <td>1</td>\n",
       "      <td>2</td>\n",
       "    </tr>\n",
       "    <tr>\n",
       "      <th>150</th>\n",
       "      <td>1003</td>\n",
       "      <td>3.79376e+06</td>\n",
       "      <td>2</td>\n",
       "      <td>1</td>\n",
       "      <td>2</td>\n",
       "    </tr>\n",
       "    <tr>\n",
       "      <th>151</th>\n",
       "      <td>1003</td>\n",
       "      <td>114148</td>\n",
       "      <td>2</td>\n",
       "      <td>1</td>\n",
       "      <td>2</td>\n",
       "    </tr>\n",
       "    <tr>\n",
       "      <th>152</th>\n",
       "      <td>1003</td>\n",
       "      <td>110357</td>\n",
       "      <td>2</td>\n",
       "      <td>1</td>\n",
       "      <td>2</td>\n",
       "    </tr>\n",
       "  </tbody>\n",
       "</table>\n",
       "</div>"
      ],
      "text/plain": [
       "    userID       itemID Time Location Companion\n",
       "148   1003       454876    2        1         2\n",
       "149   1003       120912    2        1         2\n",
       "150   1003  3.79376e+06    2        1         2\n",
       "151   1003       114148    2        1         2\n",
       "152   1003       110357    2        1         2"
      ]
     },
     "execution_count": 54,
     "metadata": {},
     "output_type": "execute_result"
    }
   ],
   "source": [
    "summary_all.head()"
   ]
  },
  {
   "cell_type": "code",
   "execution_count": 55,
   "metadata": {},
   "outputs": [
    {
     "data": {
      "text/html": [
       "<div>\n",
       "<style scoped>\n",
       "    .dataframe tbody tr th:only-of-type {\n",
       "        vertical-align: middle;\n",
       "    }\n",
       "\n",
       "    .dataframe tbody tr th {\n",
       "        vertical-align: top;\n",
       "    }\n",
       "\n",
       "    .dataframe thead th {\n",
       "        text-align: right;\n",
       "    }\n",
       "</style>\n",
       "<table border=\"1\" class=\"dataframe\">\n",
       "  <thead>\n",
       "    <tr style=\"text-align: right;\">\n",
       "      <th></th>\n",
       "      <th>Time</th>\n",
       "      <th>Location</th>\n",
       "      <th>Companion</th>\n",
       "    </tr>\n",
       "  </thead>\n",
       "  <tbody>\n",
       "    <tr>\n",
       "      <th>148</th>\n",
       "      <td>2</td>\n",
       "      <td>1</td>\n",
       "      <td>2</td>\n",
       "    </tr>\n",
       "    <tr>\n",
       "      <th>149</th>\n",
       "      <td>2</td>\n",
       "      <td>1</td>\n",
       "      <td>2</td>\n",
       "    </tr>\n",
       "    <tr>\n",
       "      <th>150</th>\n",
       "      <td>2</td>\n",
       "      <td>1</td>\n",
       "      <td>2</td>\n",
       "    </tr>\n",
       "    <tr>\n",
       "      <th>151</th>\n",
       "      <td>2</td>\n",
       "      <td>1</td>\n",
       "      <td>2</td>\n",
       "    </tr>\n",
       "    <tr>\n",
       "      <th>152</th>\n",
       "      <td>2</td>\n",
       "      <td>1</td>\n",
       "      <td>2</td>\n",
       "    </tr>\n",
       "  </tbody>\n",
       "</table>\n",
       "</div>"
      ],
      "text/plain": [
       "    Time Location Companion\n",
       "148    2        1         2\n",
       "149    2        1         2\n",
       "150    2        1         2\n",
       "151    2        1         2\n",
       "152    2        1         2"
      ]
     },
     "execution_count": 55,
     "metadata": {},
     "output_type": "execute_result"
    }
   ],
   "source": [
    "train.head()"
   ]
  },
  {
   "cell_type": "code",
   "execution_count": 58,
   "metadata": {},
   "outputs": [
    {
     "name": "stdout",
     "output_type": "stream",
     "text": [
      "Help on package shap:\n",
      "\n",
      "NAME\n",
      "    shap - # flake8: noqa\n",
      "\n",
      "PACKAGE CONTENTS\n",
      "    _cext\n",
      "    _explanation\n",
      "    _serializable\n",
      "    actions (package)\n",
      "    benchmark (package)\n",
      "    datasets\n",
      "    explainers (package)\n",
      "    links\n",
      "    maskers (package)\n",
      "    models (package)\n",
      "    plots (package)\n",
      "    utils (package)\n",
      "\n",
      "SUBMODULES\n",
      "    other\n",
      "\n",
      "FUNCTIONS\n",
      "    unsupported(*args, **kwargs)\n",
      "        # plotting (only loaded if matplotlib is present)\n",
      "\n",
      "DATA\n",
      "    have_matplotlib = True\n",
      "\n",
      "VERSION\n",
      "    0.39.0\n",
      "\n",
      "FILE\n",
      "    /home/jinfeng/anaconda3/lib/python3.8/site-packages/shap/__init__.py\n",
      "\n",
      "\n"
     ]
    }
   ],
   "source": [
    "help(shap)"
   ]
  },
  {
   "cell_type": "code",
   "execution_count": 61,
   "metadata": {},
   "outputs": [
    {
     "data": {
      "text/html": [
       "<div>\n",
       "<style scoped>\n",
       "    .dataframe tbody tr th:only-of-type {\n",
       "        vertical-align: middle;\n",
       "    }\n",
       "\n",
       "    .dataframe tbody tr th {\n",
       "        vertical-align: top;\n",
       "    }\n",
       "\n",
       "    .dataframe thead th {\n",
       "        text-align: right;\n",
       "    }\n",
       "</style>\n",
       "<table border=\"1\" class=\"dataframe\">\n",
       "  <thead>\n",
       "    <tr style=\"text-align: right;\">\n",
       "      <th></th>\n",
       "      <th>userID</th>\n",
       "      <th>itemID</th>\n",
       "      <th>rating</th>\n",
       "      <th>Time</th>\n",
       "      <th>Location</th>\n",
       "      <th>Companion</th>\n",
       "    </tr>\n",
       "  </thead>\n",
       "  <tbody>\n",
       "    <tr>\n",
       "      <th>148</th>\n",
       "      <td>1003.0</td>\n",
       "      <td>454876.0</td>\n",
       "      <td>1.0</td>\n",
       "      <td>2</td>\n",
       "      <td>1</td>\n",
       "      <td>2</td>\n",
       "    </tr>\n",
       "    <tr>\n",
       "      <th>149</th>\n",
       "      <td>1003.0</td>\n",
       "      <td>120912.0</td>\n",
       "      <td>1.0</td>\n",
       "      <td>2</td>\n",
       "      <td>1</td>\n",
       "      <td>2</td>\n",
       "    </tr>\n",
       "    <tr>\n",
       "      <th>150</th>\n",
       "      <td>1003.0</td>\n",
       "      <td>3793764.0</td>\n",
       "      <td>1.0</td>\n",
       "      <td>2</td>\n",
       "      <td>1</td>\n",
       "      <td>2</td>\n",
       "    </tr>\n",
       "    <tr>\n",
       "      <th>151</th>\n",
       "      <td>1003.0</td>\n",
       "      <td>114148.0</td>\n",
       "      <td>1.0</td>\n",
       "      <td>2</td>\n",
       "      <td>1</td>\n",
       "      <td>2</td>\n",
       "    </tr>\n",
       "    <tr>\n",
       "      <th>152</th>\n",
       "      <td>1003.0</td>\n",
       "      <td>110357.0</td>\n",
       "      <td>1.0</td>\n",
       "      <td>2</td>\n",
       "      <td>1</td>\n",
       "      <td>2</td>\n",
       "    </tr>\n",
       "    <tr>\n",
       "      <th>...</th>\n",
       "      <td>...</td>\n",
       "      <td>...</td>\n",
       "      <td>...</td>\n",
       "      <td>...</td>\n",
       "      <td>...</td>\n",
       "      <td>...</td>\n",
       "    </tr>\n",
       "    <tr>\n",
       "      <th>5038</th>\n",
       "      <td>1082.0</td>\n",
       "      <td>413267.0</td>\n",
       "      <td>1.0</td>\n",
       "      <td>1</td>\n",
       "      <td>2</td>\n",
       "      <td>3</td>\n",
       "    </tr>\n",
       "    <tr>\n",
       "      <th>5039</th>\n",
       "      <td>1082.0</td>\n",
       "      <td>1637706.0</td>\n",
       "      <td>2.0</td>\n",
       "      <td>1</td>\n",
       "      <td>2</td>\n",
       "      <td>3</td>\n",
       "    </tr>\n",
       "    <tr>\n",
       "      <th>5040</th>\n",
       "      <td>1082.0</td>\n",
       "      <td>343660.0</td>\n",
       "      <td>1.0</td>\n",
       "      <td>1</td>\n",
       "      <td>2</td>\n",
       "      <td>3</td>\n",
       "    </tr>\n",
       "    <tr>\n",
       "      <th>5041</th>\n",
       "      <td>1082.0</td>\n",
       "      <td>1133985.0</td>\n",
       "      <td>1.0</td>\n",
       "      <td>1</td>\n",
       "      <td>2</td>\n",
       "      <td>3</td>\n",
       "    </tr>\n",
       "    <tr>\n",
       "      <th>5042</th>\n",
       "      <td>1082.0</td>\n",
       "      <td>1099212.0</td>\n",
       "      <td>1.0</td>\n",
       "      <td>1</td>\n",
       "      <td>2</td>\n",
       "      <td>3</td>\n",
       "    </tr>\n",
       "  </tbody>\n",
       "</table>\n",
       "<p>3595 rows × 6 columns</p>\n",
       "</div>"
      ],
      "text/plain": [
       "      userID     itemID  rating Time Location Companion\n",
       "148   1003.0   454876.0     1.0    2        1         2\n",
       "149   1003.0   120912.0     1.0    2        1         2\n",
       "150   1003.0  3793764.0     1.0    2        1         2\n",
       "151   1003.0   114148.0     1.0    2        1         2\n",
       "152   1003.0   110357.0     1.0    2        1         2\n",
       "...      ...        ...     ...  ...      ...       ...\n",
       "5038  1082.0   413267.0     1.0    1        2         3\n",
       "5039  1082.0  1637706.0     2.0    1        2         3\n",
       "5040  1082.0   343660.0     1.0    1        2         3\n",
       "5041  1082.0  1133985.0     1.0    1        2         3\n",
       "5042  1082.0  1099212.0     1.0    1        2         3\n",
       "\n",
       "[3595 rows x 6 columns]"
      ]
     },
     "execution_count": 61,
     "metadata": {},
     "output_type": "execute_result"
    }
   ],
   "source": [
    "context_explain"
   ]
  },
  {
   "cell_type": "code",
   "execution_count": null,
   "metadata": {},
   "outputs": [],
   "source": [
    "summary = train.median().values.reshape((1,train.shape[1]))\n",
    "explainer = shap.KernelExplainer(ty, summary)\n",
    "shap_values = explainer.shap_values(train.iloc[:30,:])\n",
    "np.savetxt('/content/gdrive/My Drive/drive/data/Movie_DePaulMovie/haha_new_kmeans.txt',shap_values)\n",
    "shap.initjs()\n",
    "shap.force_plot(explainer.expected_value, shap_values, train)"
   ]
  },
  {
   "cell_type": "code",
   "execution_count": 67,
   "metadata": {},
   "outputs": [
    {
     "name": "stdout",
     "output_type": "stream",
     "text": [
      "Help on package shap:\n",
      "\n",
      "NAME\n",
      "    shap - # flake8: noqa\n",
      "\n",
      "PACKAGE CONTENTS\n",
      "    _cext\n",
      "    _explanation\n",
      "    _serializable\n",
      "    actions (package)\n",
      "    benchmark (package)\n",
      "    datasets\n",
      "    explainers (package)\n",
      "    links\n",
      "    maskers (package)\n",
      "    models (package)\n",
      "    plots (package)\n",
      "    utils (package)\n",
      "\n",
      "SUBMODULES\n",
      "    other\n",
      "\n",
      "FUNCTIONS\n",
      "    unsupported(*args, **kwargs)\n",
      "        # plotting (only loaded if matplotlib is present)\n",
      "\n",
      "DATA\n",
      "    have_matplotlib = True\n",
      "\n",
      "VERSION\n",
      "    0.39.0\n",
      "\n",
      "FILE\n",
      "    /home/jinfeng/anaconda3/lib/python3.8/site-packages/shap/__init__.py\n",
      "\n",
      "\n"
     ]
    }
   ],
   "source": [
    "help(shap)"
   ]
  }
 ],
 "metadata": {
  "kernelspec": {
   "display_name": "Python 3",
   "language": "python",
   "name": "python3"
  },
  "language_info": {
   "codemirror_mode": {
    "name": "ipython",
    "version": 3
   },
   "file_extension": ".py",
   "mimetype": "text/x-python",
   "name": "python",
   "nbconvert_exporter": "python",
   "pygments_lexer": "ipython3",
   "version": "3.8.3"
  }
 },
 "nbformat": 4,
 "nbformat_minor": 4
}
